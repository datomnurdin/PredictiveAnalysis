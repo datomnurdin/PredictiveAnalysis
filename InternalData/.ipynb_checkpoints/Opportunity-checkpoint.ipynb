{
 "cells": [
  {
   "cell_type": "markdown",
   "metadata": {},
   "source": [
    "import all the required modules."
   ]
  },
  {
   "cell_type": "code",
   "execution_count": 1,
   "metadata": {
    "collapsed": true
   },
   "outputs": [],
   "source": [
    "import numpy as np\n",
    "import pandas as pd\n",
    "from sklearn.ensemble import RandomForestClassifier\n",
    "from sklearn import preprocessing"
   ]
  },
  {
   "cell_type": "code",
   "execution_count": 2,
   "metadata": {
    "collapsed": false
   },
   "outputs": [
    {
     "data": {
      "text/html": [
       "<div style=\"max-height:1000px;max-width:1500px;overflow:auto;\">\n",
       "<table border=\"1\" class=\"dataframe\">\n",
       "  <thead>\n",
       "    <tr style=\"text-align: right;\">\n",
       "      <th></th>\n",
       "      <th>Opp No</th>\n",
       "      <th>Opp Type</th>\n",
       "      <th>Status</th>\n",
       "      <th>Region</th>\n",
       "      <th>Country</th>\n",
       "      <th>BU</th>\n",
       "      <th>Sector</th>\n",
       "      <th>Customer Group</th>\n",
       "      <th>Customer</th>\n",
       "      <th>Product</th>\n",
       "      <th>...</th>\n",
       "      <th>Cust Dec Date</th>\n",
       "      <th>Go Live Date</th>\n",
       "      <th>Date Exp Gain</th>\n",
       "      <th>Payment Terms</th>\n",
       "      <th>Contract Term</th>\n",
       "      <th>Milestone</th>\n",
       "      <th>Prob to win %</th>\n",
       "      <th>BCA_Status</th>\n",
       "      <th>Ann Rev</th>\n",
       "      <th>Ann GP</th>\n",
       "    </tr>\n",
       "  </thead>\n",
       "  <tbody>\n",
       "    <tr>\n",
       "      <th>0</th>\n",
       "      <td> 9WG2RW</td>\n",
       "      <td> 2. Renewal</td>\n",
       "      <td>        5. Lost</td>\n",
       "      <td>  UK &amp; IRELAND</td>\n",
       "      <td>    UK</td>\n",
       "      <td>  ELLP</td>\n",
       "      <td> Automotive</td>\n",
       "      <td> FORD MOTOR</td>\n",
       "      <td> Ford Motor</td>\n",
       "      <td> Inbound-to-Manufacturing (I2M)</td>\n",
       "      <td>...</td>\n",
       "      <td> 19/11/2016</td>\n",
       "      <td> 01/12/2016</td>\n",
       "      <td> 31/12/2016</td>\n",
       "      <td> 60</td>\n",
       "      <td>  &lt; 1 Year</td>\n",
       "      <td>                       Closed - Lost</td>\n",
       "      <td>NaN</td>\n",
       "      <td>          Approved</td>\n",
       "      <td>   0.33</td>\n",
       "      <td>  0.13</td>\n",
       "    </tr>\n",
       "    <tr>\n",
       "      <th>1</th>\n",
       "      <td> 9YG5FC</td>\n",
       "      <td>     1. New</td>\n",
       "      <td>        5. Lost</td>\n",
       "      <td> Greater China</td>\n",
       "      <td> China</td>\n",
       "      <td> China</td>\n",
       "      <td> Automotive</td>\n",
       "      <td> FORD MOTOR</td>\n",
       "      <td> Ford Motor</td>\n",
       "      <td>           Aftermarket Services</td>\n",
       "      <td>...</td>\n",
       "      <td> 03/11/2017</td>\n",
       "      <td> 29/12/2017</td>\n",
       "      <td> 24/11/2017</td>\n",
       "      <td> 40</td>\n",
       "      <td> 2-3 Years</td>\n",
       "      <td>                       Closed - Lost</td>\n",
       "      <td>NaN</td>\n",
       "      <td>       Not started</td>\n",
       "      <td>  73.59</td>\n",
       "      <td> 57.31</td>\n",
       "    </tr>\n",
       "    <tr>\n",
       "      <th>2</th>\n",
       "      <td> A4THP4</td>\n",
       "      <td>     1. New</td>\n",
       "      <td> 2. Opportunity</td>\n",
       "      <td>  UK &amp; IRELAND</td>\n",
       "      <td>    UK</td>\n",
       "      <td>  ELLP</td>\n",
       "      <td> Automotive</td>\n",
       "      <td> FORD MOTOR</td>\n",
       "      <td> Ford Motor</td>\n",
       "      <td>     DHL Lead Logistics Partner</td>\n",
       "      <td>...</td>\n",
       "      <td> 04/11/2016</td>\n",
       "      <td> 31/07/2017</td>\n",
       "      <td> 31/03/2017</td>\n",
       "      <td> 60</td>\n",
       "      <td> 2-3 Years</td>\n",
       "      <td> Verbal Customer Commitment Received</td>\n",
       "      <td> 90</td>\n",
       "      <td> Awaiting Approval</td>\n",
       "      <td>  17.74</td>\n",
       "      <td> 35.41</td>\n",
       "    </tr>\n",
       "    <tr>\n",
       "      <th>3</th>\n",
       "      <td> A54GJ8</td>\n",
       "      <td>     1. New</td>\n",
       "      <td> 2. Opportunity</td>\n",
       "      <td>  UK &amp; IRELAND</td>\n",
       "      <td>    UK</td>\n",
       "      <td>  ELLP</td>\n",
       "      <td> Automotive</td>\n",
       "      <td> FORD MOTOR</td>\n",
       "      <td> Ford Motor</td>\n",
       "      <td>     DHL Lead Logistics Partner</td>\n",
       "      <td>...</td>\n",
       "      <td> 01/08/2017</td>\n",
       "      <td> 08/01/2018</td>\n",
       "      <td> 02/10/2017</td>\n",
       "      <td> 60</td>\n",
       "      <td> 3-5 Years</td>\n",
       "      <td> Qualified and signed off by Sponsor</td>\n",
       "      <td> 20</td>\n",
       "      <td>       Not started</td>\n",
       "      <td> 176.25</td>\n",
       "      <td> 12.14</td>\n",
       "    </tr>\n",
       "    <tr>\n",
       "      <th>4</th>\n",
       "      <td> 9XY2SC</td>\n",
       "      <td> 2. Renewal</td>\n",
       "      <td> 2. Opportunity</td>\n",
       "      <td> Greater China</td>\n",
       "      <td> China</td>\n",
       "      <td> China</td>\n",
       "      <td> Automotive</td>\n",
       "      <td> FORD MOTOR</td>\n",
       "      <td> Ford Motor</td>\n",
       "      <td>                    Warehousing</td>\n",
       "      <td>...</td>\n",
       "      <td> 09/06/2017</td>\n",
       "      <td> 01/01/2017</td>\n",
       "      <td> 16/06/2017</td>\n",
       "      <td> 60</td>\n",
       "      <td> 3-5 Years</td>\n",
       "      <td> Qualified and signed off by Sponsor</td>\n",
       "      <td> 85</td>\n",
       "      <td> Awaiting Approval</td>\n",
       "      <td>  23.69</td>\n",
       "      <td> 18.87</td>\n",
       "    </tr>\n",
       "  </tbody>\n",
       "</table>\n",
       "<p>5 rows × 21 columns</p>\n",
       "</div>"
      ],
      "text/plain": [
       "   Opp No    Opp Type          Status         Region Country     BU  \\\n",
       "0  9WG2RW  2. Renewal         5. Lost   UK & IRELAND      UK   ELLP   \n",
       "1  9YG5FC      1. New         5. Lost  Greater China   China  China   \n",
       "2  A4THP4      1. New  2. Opportunity   UK & IRELAND      UK   ELLP   \n",
       "3  A54GJ8      1. New  2. Opportunity   UK & IRELAND      UK   ELLP   \n",
       "4  9XY2SC  2. Renewal  2. Opportunity  Greater China   China  China   \n",
       "\n",
       "       Sector Customer Group    Customer                         Product  \\\n",
       "0  Automotive     FORD MOTOR  Ford Motor  Inbound-to-Manufacturing (I2M)   \n",
       "1  Automotive     FORD MOTOR  Ford Motor            Aftermarket Services   \n",
       "2  Automotive     FORD MOTOR  Ford Motor      DHL Lead Logistics Partner   \n",
       "3  Automotive     FORD MOTOR  Ford Motor      DHL Lead Logistics Partner   \n",
       "4  Automotive     FORD MOTOR  Ford Motor                     Warehousing   \n",
       "\n",
       "    ...   Cust Dec Date Go Live Date Date Exp Gain Payment Terms  \\\n",
       "0   ...      19/11/2016   01/12/2016    31/12/2016            60   \n",
       "1   ...      03/11/2017   29/12/2017    24/11/2017            40   \n",
       "2   ...      04/11/2016   31/07/2017    31/03/2017            60   \n",
       "3   ...      01/08/2017   08/01/2018    02/10/2017            60   \n",
       "4   ...      09/06/2017   01/01/2017    16/06/2017            60   \n",
       "\n",
       "   Contract Term                            Milestone Prob to win %  \\\n",
       "0       < 1 Year                        Closed - Lost           NaN   \n",
       "1      2-3 Years                        Closed - Lost           NaN   \n",
       "2      2-3 Years  Verbal Customer Commitment Received            90   \n",
       "3      3-5 Years  Qualified and signed off by Sponsor            20   \n",
       "4      3-5 Years  Qualified and signed off by Sponsor            85   \n",
       "\n",
       "          BCA_Status Ann Rev  Ann GP  \n",
       "0           Approved    0.33    0.13  \n",
       "1        Not started   73.59   57.31  \n",
       "2  Awaiting Approval   17.74   35.41  \n",
       "3        Not started  176.25   12.14  \n",
       "4  Awaiting Approval   23.69   18.87  \n",
       "\n",
       "[5 rows x 21 columns]"
      ]
     },
     "execution_count": 2,
     "metadata": {},
     "output_type": "execute_result"
    }
   ],
   "source": [
    "train = pd.read_csv(\"data/Opportunities_train.csv\")    # Read the data\n",
    "train.head()"
   ]
  },
  {
   "cell_type": "code",
   "execution_count": 3,
   "metadata": {
    "collapsed": false
   },
   "outputs": [],
   "source": [
    "# Impute median Payment Terms for NA Payment Terms values\n",
    "new_payment_terms_var = np.where(train[\"Payment Terms\"].isnull(), # Logical check\n",
    "                       60,                       # Value if check is true\n",
    "                       train[\"Payment Terms\"])     # Value if check is false\n",
    "\n",
    "train[\"Payment Terms\"] = new_payment_terms_var \n",
    "\n",
    "# Impute median  Prob to win %  for NA Prob to win %  values\n",
    "new_prob_to_win_var = np.where(train[\"Prob to win %\"].isnull(), # Logical check\n",
    "                       70,                       # Value if check is true\n",
    "                       train[\"Prob to win %\"])     # Value if check is false\n",
    "\n",
    "train[\"Prob to win %\"] = new_payment_terms_var \n",
    "\n",
    "# Impute median Ann Rev for NA Ann Rev values\n",
    "new_ann_rev_var = np.where(train[\"Ann Rev\"].isnull(), # Logical check\n",
    "                       73,                       # Value if check is true\n",
    "                       train[\"Ann Rev\"])     # Value if check is false\n",
    "\n",
    "train[\"Ann Rev\"] = new_ann_rev_var \n",
    "\n",
    "# Impute median Ann GP for NA Ann GP values\n",
    "new_ann_gp_var = np.where(train[\"Ann GP\"].isnull(), # Logical check\n",
    "                       28,                       # Value if check is true\n",
    "                       train[\"Ann GP\"])     # Value if check is false\n",
    "\n",
    "train[\"Ann GP\"] = new_ann_gp_var "
   ]
  },
  {
   "cell_type": "code",
   "execution_count": 4,
   "metadata": {
    "collapsed": false
   },
   "outputs": [
    {
     "name": "stdout",
     "output_type": "stream",
     "text": [
      "OOB accuracy: \n",
      "0.8\n"
     ]
    }
   ],
   "source": [
    "# Set the seed\n",
    "np.random.seed(12)\n",
    "\n",
    "# Initialize label encoder\n",
    "label_encoder = preprocessing.LabelEncoder()\n",
    "\n",
    "# Convert some variables to numeric\n",
    "train[\"Opp Type\"] = label_encoder.fit_transform(train[\"Opp Type\"])\n",
    "train[\"Region\"] = label_encoder.fit_transform(train[\"Region\"])\n",
    "train[\"Country\"] = label_encoder.fit_transform(train[\"Country\"])\n",
    "train[\"BU\"] = label_encoder.fit_transform(train[\"BU\"])\n",
    "train[\"Sector\"] = label_encoder.fit_transform(train[\"Sector\"])\n",
    "train[\"Customer Group\"] = label_encoder.fit_transform(train[\"Customer Group\"])\n",
    "train[\"Customer\"] = label_encoder.fit_transform(train[\"Customer\"])\n",
    "train[\"Product\"] = label_encoder.fit_transform(train[\"Product\"])\n",
    "train[\"Contract Term\"] = label_encoder.fit_transform(train[\"Contract Term\"])\n",
    "train[\"Milestone\"] = label_encoder.fit_transform(train[\"Milestone\"])\n",
    "train[\"BCA_Status\"] = label_encoder.fit_transform(train[\"BCA_Status\"])\n",
    "\n",
    "# Initialize the model\n",
    "rf_model = RandomForestClassifier(n_estimators=1000, # Number of trees\n",
    "                                  max_features=2,    # Num features considered\n",
    "                                  oob_score=True)    # Use OOB scoring*\n",
    "\n",
    "features = [\"Opp Type\",\"Region\",\"Country\",\"BU\",\"Sector\",\"Customer Group\",\"Customer\",\"Product\",\"Payment Terms\",\"Contract Term\",\"Milestone\",\"Prob to win %\",\"BCA_Status\",\"Ann Rev\",\"Ann GP\"]\n",
    "\n",
    "# Train the model\n",
    "rf_model.fit(X=train[features],\n",
    "             y=train[\"Status\"])\n",
    "\n",
    "print(\"OOB accuracy: \")\n",
    "print(rf_model.oob_score_)"
   ]
  },
  {
   "cell_type": "markdown",
   "metadata": {
    "collapsed": true
   },
   "source": [
    "Since random forest models involve building trees from random subsets or \"bags\" of data, model performance can be estimated by making predictions on the out-of-bag (OOB) samples instead of using cross validation. You can use cross validation on random forests, but OOB validation already provides a good estimate of performance and building several random forest models to conduct K-fold cross validation with random forest models can be computationally expensive.\n",
    "The random forest classifier assigns an importance value to each feature used in training. Features with higher importance were more influential in creating the model, indicating a stronger association with the response variable. Let's check the feature importance for our random forest model:"
   ]
  },
  {
   "cell_type": "code",
   "execution_count": 5,
   "metadata": {
    "collapsed": false
   },
   "outputs": [
    {
     "name": "stdout",
     "output_type": "stream",
     "text": [
      "('Opp Type', 0.045194830342816426)\n",
      "('Region', 0.039989182982889095)\n",
      "('Country', 0.039607178281129675)\n",
      "('BU', 0.057833092697555023)\n",
      "('Sector', 0.026592517358930777)\n",
      "('Customer Group', 0.031445440403546125)\n",
      "('Customer', 0.040674120908347947)\n",
      "('Product', 0.097860919081353095)\n",
      "('Payment Terms', 0.041258077831037014)\n",
      "('Contract Term', 0.036751685508059621)\n",
      "('Milestone', 0.23572587739869463)\n",
      "('Prob to win %', 0.039672027625222268)\n",
      "('BCA_Status', 0.11787216737260303)\n",
      "('Ann Rev', 0.081119024119597802)\n",
      "('Ann GP', 0.068403858088217209)\n"
     ]
    }
   ],
   "source": [
    "for feature, imp in zip(features, rf_model.feature_importances_):\n",
    "    print(feature, imp)"
   ]
  },
  {
   "cell_type": "markdown",
   "metadata": {},
   "source": [
    "Feature importance can help identify useful features and eliminate features that don't contribute much to the model.\n",
    "As a final exercise, let's use the random forest model to make predictions on the opportunity test set to see how our actual generalization performance compares to the OOB estimate:"
   ]
  },
  {
   "cell_type": "code",
   "execution_count": 6,
   "metadata": {
    "collapsed": false
   },
   "outputs": [],
   "source": [
    "# Read and prepare test data\n",
    "test = pd.read_csv(\"data/Opportunities_test.csv\")    # Read the data\n",
    "\n",
    "# Impute median Payment Terms for NA Payment Terms values\n",
    "new_payment_terms_var = np.where(test[\"Payment Terms\"].isnull(), # Logical check\n",
    "                       60,                       # Value if check is true\n",
    "                       test[\"Payment Terms\"])     # Value if check is false\n",
    "\n",
    "test[\"Payment Terms\"] = new_payment_terms_var \n",
    "\n",
    "# Impute median  Prob to win %  for NA Prob to win %  values\n",
    "new_prob_to_win_var = np.where(test[\"Prob to win %\"].isnull(), # Logical check\n",
    "                       70,                       # Value if check is true\n",
    "                       test[\"Prob to win %\"])     # Value if check is false\n",
    "\n",
    "test[\"Prob to win %\"] = new_payment_terms_var \n",
    "\n",
    "# Impute median Ann Rev for NA Ann Rev values\n",
    "new_ann_rev_var = np.where(test[\"Ann Rev\"].isnull(), # Logical check\n",
    "                       73,                       # Value if check is true\n",
    "                       test[\"Ann Rev\"])     # Value if check is false\n",
    "\n",
    "test[\"Ann Rev\"] = new_ann_rev_var \n",
    "\n",
    "# Impute median Ann GP for NA Ann GP values\n",
    "new_ann_gp_var = np.where(test[\"Ann GP\"].isnull(), # Logical check\n",
    "                       28,                       # Value if check is true\n",
    "                       test[\"Ann GP\"])     # Value if check is false\n",
    "\n",
    "test[\"Ann GP\"] = new_ann_gp_var \n",
    "\n",
    "# Convert some variables to numeric\n",
    "test[\"Opp Type\"] = label_encoder.fit_transform(test[\"Opp Type\"])\n",
    "test[\"Region\"] = label_encoder.fit_transform(test[\"Region\"])\n",
    "test[\"Country\"] = label_encoder.fit_transform(test[\"Country\"])\n",
    "test[\"BU\"] = label_encoder.fit_transform(test[\"BU\"])\n",
    "test[\"Sector\"] = label_encoder.fit_transform(test[\"Sector\"])\n",
    "test[\"Customer Group\"] = label_encoder.fit_transform(test[\"Customer Group\"])\n",
    "test[\"Customer\"] = label_encoder.fit_transform(test[\"Customer\"])\n",
    "test[\"Product\"] = label_encoder.fit_transform(test[\"Product\"])\n",
    "test[\"Contract Term\"] = label_encoder.fit_transform(test[\"Contract Term\"])\n",
    "test[\"Milestone\"] = label_encoder.fit_transform(test[\"Milestone\"])\n",
    "test[\"BCA_Status\"] = label_encoder.fit_transform(test[\"BCA_Status\"])"
   ]
  },
  {
   "cell_type": "code",
   "execution_count": 7,
   "metadata": {
    "collapsed": false
   },
   "outputs": [
    {
     "ename": "ValueError",
     "evalue": "could not convert string to float: Transactional",
     "output_type": "error",
     "traceback": [
      "\u001b[0;31m---------------------------------------------------------------------------\u001b[0m",
      "\u001b[0;31mValueError\u001b[0m                                Traceback (most recent call last)",
      "\u001b[0;32m<ipython-input-7-67f8dde2f99f>\u001b[0m in \u001b[0;36m<module>\u001b[0;34m()\u001b[0m\n\u001b[1;32m      1\u001b[0m \u001b[0;31m# Make test set predictions\u001b[0m\u001b[0;34m\u001b[0m\u001b[0;34m\u001b[0m\u001b[0m\n\u001b[0;32m----> 2\u001b[0;31m \u001b[0mtest_preds\u001b[0m \u001b[0;34m=\u001b[0m \u001b[0mrf_model\u001b[0m\u001b[0;34m.\u001b[0m\u001b[0mpredict\u001b[0m\u001b[0;34m(\u001b[0m\u001b[0mX\u001b[0m\u001b[0;34m=\u001b[0m \u001b[0mtest\u001b[0m\u001b[0;34m[\u001b[0m\u001b[0mfeatures\u001b[0m\u001b[0;34m]\u001b[0m\u001b[0;34m)\u001b[0m\u001b[0;34m\u001b[0m\u001b[0m\n\u001b[0m\u001b[1;32m      3\u001b[0m \u001b[0;34m\u001b[0m\u001b[0m\n\u001b[1;32m      4\u001b[0m \u001b[0;31m# Create a submission for Kaggle\u001b[0m\u001b[0;34m\u001b[0m\u001b[0;34m\u001b[0m\u001b[0m\n\u001b[1;32m      5\u001b[0m submission = pd.DataFrame({\"Opp No\":test[\"Opp No\"],\n",
      "\u001b[0;32m/usr/local/lib/python2.7/site-packages/sklearn/ensemble/forest.pyc\u001b[0m in \u001b[0;36mpredict\u001b[0;34m(self, X)\u001b[0m\n\u001b[1;32m    418\u001b[0m         \"\"\"\n\u001b[1;32m    419\u001b[0m         \u001b[0mn_samples\u001b[0m \u001b[0;34m=\u001b[0m \u001b[0mlen\u001b[0m\u001b[0;34m(\u001b[0m\u001b[0mX\u001b[0m\u001b[0;34m)\u001b[0m\u001b[0;34m\u001b[0m\u001b[0m\n\u001b[0;32m--> 420\u001b[0;31m         \u001b[0mproba\u001b[0m \u001b[0;34m=\u001b[0m \u001b[0mself\u001b[0m\u001b[0;34m.\u001b[0m\u001b[0mpredict_proba\u001b[0m\u001b[0;34m(\u001b[0m\u001b[0mX\u001b[0m\u001b[0;34m)\u001b[0m\u001b[0;34m\u001b[0m\u001b[0m\n\u001b[0m\u001b[1;32m    421\u001b[0m \u001b[0;34m\u001b[0m\u001b[0m\n\u001b[1;32m    422\u001b[0m         \u001b[0;32mif\u001b[0m \u001b[0mself\u001b[0m\u001b[0;34m.\u001b[0m\u001b[0mn_outputs_\u001b[0m \u001b[0;34m==\u001b[0m \u001b[0;36m1\u001b[0m\u001b[0;34m:\u001b[0m\u001b[0;34m\u001b[0m\u001b[0m\n",
      "\u001b[0;32m/usr/local/lib/python2.7/site-packages/sklearn/ensemble/forest.pyc\u001b[0m in \u001b[0;36mpredict_proba\u001b[0;34m(self, X)\u001b[0m\n\u001b[1;32m    453\u001b[0m         \u001b[0;31m# Check data\u001b[0m\u001b[0;34m\u001b[0m\u001b[0;34m\u001b[0m\u001b[0m\n\u001b[1;32m    454\u001b[0m         \u001b[0;32mif\u001b[0m \u001b[0mgetattr\u001b[0m\u001b[0;34m(\u001b[0m\u001b[0mX\u001b[0m\u001b[0;34m,\u001b[0m \u001b[0;34m\"dtype\"\u001b[0m\u001b[0;34m,\u001b[0m \u001b[0mNone\u001b[0m\u001b[0;34m)\u001b[0m \u001b[0;34m!=\u001b[0m \u001b[0mDTYPE\u001b[0m \u001b[0;32mor\u001b[0m \u001b[0mX\u001b[0m\u001b[0;34m.\u001b[0m\u001b[0mndim\u001b[0m \u001b[0;34m!=\u001b[0m \u001b[0;36m2\u001b[0m\u001b[0;34m:\u001b[0m\u001b[0;34m\u001b[0m\u001b[0m\n\u001b[0;32m--> 455\u001b[0;31m             \u001b[0mX\u001b[0m \u001b[0;34m=\u001b[0m \u001b[0marray2d\u001b[0m\u001b[0;34m(\u001b[0m\u001b[0mX\u001b[0m\u001b[0;34m,\u001b[0m \u001b[0mdtype\u001b[0m\u001b[0;34m=\u001b[0m\u001b[0mDTYPE\u001b[0m\u001b[0;34m)\u001b[0m\u001b[0;34m\u001b[0m\u001b[0m\n\u001b[0m\u001b[1;32m    456\u001b[0m \u001b[0;34m\u001b[0m\u001b[0m\n\u001b[1;32m    457\u001b[0m         \u001b[0;31m# Assign chunk of trees to jobs\u001b[0m\u001b[0;34m\u001b[0m\u001b[0;34m\u001b[0m\u001b[0m\n",
      "\u001b[0;32m/usr/local/lib/python2.7/site-packages/sklearn/utils/validation.pyc\u001b[0m in \u001b[0;36marray2d\u001b[0;34m(X, dtype, order, copy, force_all_finite)\u001b[0m\n\u001b[1;32m    118\u001b[0m         raise TypeError('A sparse matrix was passed, but dense data '\n\u001b[1;32m    119\u001b[0m                         'is required. Use X.toarray() to convert to dense.')\n\u001b[0;32m--> 120\u001b[0;31m     \u001b[0mX_2d\u001b[0m \u001b[0;34m=\u001b[0m \u001b[0mnp\u001b[0m\u001b[0;34m.\u001b[0m\u001b[0masarray\u001b[0m\u001b[0;34m(\u001b[0m\u001b[0mnp\u001b[0m\u001b[0;34m.\u001b[0m\u001b[0matleast_2d\u001b[0m\u001b[0;34m(\u001b[0m\u001b[0mX\u001b[0m\u001b[0;34m)\u001b[0m\u001b[0;34m,\u001b[0m \u001b[0mdtype\u001b[0m\u001b[0;34m=\u001b[0m\u001b[0mdtype\u001b[0m\u001b[0;34m,\u001b[0m \u001b[0morder\u001b[0m\u001b[0;34m=\u001b[0m\u001b[0morder\u001b[0m\u001b[0;34m)\u001b[0m\u001b[0;34m\u001b[0m\u001b[0m\n\u001b[0m\u001b[1;32m    121\u001b[0m     \u001b[0;32mif\u001b[0m \u001b[0mforce_all_finite\u001b[0m\u001b[0;34m:\u001b[0m\u001b[0;34m\u001b[0m\u001b[0m\n\u001b[1;32m    122\u001b[0m         \u001b[0m_assert_all_finite\u001b[0m\u001b[0;34m(\u001b[0m\u001b[0mX_2d\u001b[0m\u001b[0;34m)\u001b[0m\u001b[0;34m\u001b[0m\u001b[0m\n",
      "\u001b[0;32m/usr/local/lib/python2.7/site-packages/numpy/core/numeric.pyc\u001b[0m in \u001b[0;36masarray\u001b[0;34m(a, dtype, order)\u001b[0m\n\u001b[1;32m    529\u001b[0m \u001b[0;34m\u001b[0m\u001b[0m\n\u001b[1;32m    530\u001b[0m     \"\"\"\n\u001b[0;32m--> 531\u001b[0;31m     \u001b[0;32mreturn\u001b[0m \u001b[0marray\u001b[0m\u001b[0;34m(\u001b[0m\u001b[0ma\u001b[0m\u001b[0;34m,\u001b[0m \u001b[0mdtype\u001b[0m\u001b[0;34m,\u001b[0m \u001b[0mcopy\u001b[0m\u001b[0;34m=\u001b[0m\u001b[0mFalse\u001b[0m\u001b[0;34m,\u001b[0m \u001b[0morder\u001b[0m\u001b[0;34m=\u001b[0m\u001b[0morder\u001b[0m\u001b[0;34m)\u001b[0m\u001b[0;34m\u001b[0m\u001b[0m\n\u001b[0m\u001b[1;32m    532\u001b[0m \u001b[0;34m\u001b[0m\u001b[0m\n\u001b[1;32m    533\u001b[0m \u001b[0;34m\u001b[0m\u001b[0m\n",
      "\u001b[0;31mValueError\u001b[0m: could not convert string to float: Transactional"
     ]
    }
   ],
   "source": [
    "# Make test set predictions\n",
    "test_preds = rf_model.predict(X= test[features])\n",
    "\n",
    "# Create a submission for Kaggle\n",
    "submission = pd.DataFrame({\"Opp No\":test[\"Opp No\"],\n",
    "                           \"Status\":test_preds})\n",
    "\n",
    "# Save submission to CSV\n",
    "submission.to_csv(\"data/result.csv\", \n",
    "                  index=False)        # Do not save index values"
   ]
  }
 ],
 "metadata": {
  "kernelspec": {
   "display_name": "Python 2",
   "language": "python",
   "name": "python2"
  },
  "language_info": {
   "codemirror_mode": {
    "name": "ipython",
    "version": 2
   },
   "file_extension": ".py",
   "mimetype": "text/x-python",
   "name": "python",
   "nbconvert_exporter": "python",
   "pygments_lexer": "ipython2",
   "version": "2.7.11"
  }
 },
 "nbformat": 4,
 "nbformat_minor": 2
}
