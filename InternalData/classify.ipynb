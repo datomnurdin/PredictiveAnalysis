{
 "cells": [
  {
   "cell_type": "markdown",
   "metadata": {
    "collapsed": true
   },
   "source": [
    "Retrieve Opportunities_examples.csv dataset from DHL.\n",
    "\n",
    "The columns in this dataset are:\n",
    "Opp No\tOpp Type\tStatus\tRegion\tCountry\tBU\tSector\tCustomer Group\tCustomer\tProduct\tCreated\tCust Dec Date\tGo Live Date\tDate Exp Gain\tPayment Terms\tContract Term\tMilestone\t Prob to win % \tBCA_Status\tAnn Rev (Ûm)\tAnn GP (Ûm)\n",
    "\n",
    "The model was been generated using Random Forest approach (http://scikit-learn.org/stable/), Pandas (http://pandas.pydata.org/) and Numpy (http://www.numpy.org/)."
   ]
  },
  {
   "cell_type": "code",
   "execution_count": 1,
   "metadata": {
    "collapsed": true
   },
   "outputs": [],
   "source": [
    "import pandas as pd\n",
    "import numpy as np\n",
    "from sklearn.preprocessing import LabelEncoder\n",
    "import random\n",
    "from sklearn.ensemble import RandomForestClassifier\n",
    "from sklearn.ensemble import GradientBoostingClassifier\n",
    "from sklearn.metrics import (accuracy_score,\n",
    "                             average_precision_score,\n",
    "                             auc,\n",
    "                             #auc_score,\n",
    "                             classification_report,\n",
    "                             confusion_matrix,\n",
    "                             explained_variance_score,\n",
    "                             f1_score,\n",
    "                             fbeta_score,\n",
    "                             hamming_loss,\n",
    "                             hinge_loss,\n",
    "                             jaccard_similarity_score,\n",
    "                             log_loss,\n",
    "                             matthews_corrcoef,\n",
    "                             mean_squared_error,\n",
    "                             mean_absolute_error,\n",
    "                             precision_recall_curve,\n",
    "                             precision_recall_fscore_support,\n",
    "                             precision_score,\n",
    "                             recall_score,\n",
    "                             r2_score,\n",
    "                             roc_auc_score,\n",
    "                             roc_curve,\n",
    "                             zero_one_loss)"
   ]
  },
  {
   "cell_type": "markdown",
   "metadata": {},
   "source": [
    "Sample Opportunities_examples data"
   ]
  },
  {
   "cell_type": "code",
   "execution_count": 2,
   "metadata": {
    "collapsed": false
   },
   "outputs": [
    {
     "data": {
      "text/html": [
       "<div style=\"max-height:1000px;max-width:1500px;overflow:auto;\">\n",
       "<table border=\"1\" class=\"dataframe\">\n",
       "  <thead>\n",
       "    <tr style=\"text-align: right;\">\n",
       "      <th></th>\n",
       "      <th>Opp Type</th>\n",
       "      <th>Status</th>\n",
       "      <th>Region</th>\n",
       "      <th>Country</th>\n",
       "      <th>BU</th>\n",
       "      <th>Sector</th>\n",
       "      <th>Customer Group</th>\n",
       "      <th>Customer</th>\n",
       "      <th>Product</th>\n",
       "      <th>Payment Terms</th>\n",
       "      <th>Contract Term</th>\n",
       "      <th>Milestone</th>\n",
       "      <th> Prob to win % </th>\n",
       "      <th>BCA_Status</th>\n",
       "      <th>type</th>\n",
       "    </tr>\n",
       "  </thead>\n",
       "  <tbody>\n",
       "    <tr>\n",
       "      <th>0</th>\n",
       "      <td> 2. Renewal</td>\n",
       "      <td>           5. Lost</td>\n",
       "      <td>  UK &amp; IRELAND</td>\n",
       "      <td>    UK</td>\n",
       "      <td>  ELLP</td>\n",
       "      <td> Automotive</td>\n",
       "      <td> FORD MOTOR</td>\n",
       "      <td>  Ford Motor</td>\n",
       "      <td> Inbound-to-Manufacturing (I2M)</td>\n",
       "      <td> 60</td>\n",
       "      <td>  &lt; 1 Year</td>\n",
       "      <td>                       Closed - Lost</td>\n",
       "      <td>   0</td>\n",
       "      <td>          Approved</td>\n",
       "      <td> Train</td>\n",
       "    </tr>\n",
       "    <tr>\n",
       "      <th>1</th>\n",
       "      <td>     1. New</td>\n",
       "      <td>           5. Lost</td>\n",
       "      <td> Greater China</td>\n",
       "      <td> China</td>\n",
       "      <td> China</td>\n",
       "      <td> Automotive</td>\n",
       "      <td> FORD MOTOR</td>\n",
       "      <td>  Ford Motor</td>\n",
       "      <td>           Aftermarket Services</td>\n",
       "      <td> 40</td>\n",
       "      <td> 2-3 Years</td>\n",
       "      <td>                       Closed - Lost</td>\n",
       "      <td>   0</td>\n",
       "      <td>       Not started</td>\n",
       "      <td> Train</td>\n",
       "    </tr>\n",
       "    <tr>\n",
       "      <th>2</th>\n",
       "      <td>     1. New</td>\n",
       "      <td>    2. Opportunity</td>\n",
       "      <td>  UK &amp; IRELAND</td>\n",
       "      <td>    UK</td>\n",
       "      <td>  ELLP</td>\n",
       "      <td> Automotive</td>\n",
       "      <td> FORD MOTOR</td>\n",
       "      <td>  Ford Motor</td>\n",
       "      <td>     DHL Lead Logistics Partner</td>\n",
       "      <td> 60</td>\n",
       "      <td> 2-3 Years</td>\n",
       "      <td> Verbal Customer Commitment Received</td>\n",
       "      <td>  90</td>\n",
       "      <td> Awaiting Approval</td>\n",
       "      <td> Train</td>\n",
       "    </tr>\n",
       "    <tr>\n",
       "      <th>3</th>\n",
       "      <td>     1. New</td>\n",
       "      <td>    2. Opportunity</td>\n",
       "      <td>  UK &amp; IRELAND</td>\n",
       "      <td>    UK</td>\n",
       "      <td>  ELLP</td>\n",
       "      <td> Automotive</td>\n",
       "      <td> FORD MOTOR</td>\n",
       "      <td>  Ford Motor</td>\n",
       "      <td>     DHL Lead Logistics Partner</td>\n",
       "      <td> 60</td>\n",
       "      <td> 3-5 Years</td>\n",
       "      <td> Qualified and signed off by Sponsor</td>\n",
       "      <td>  20</td>\n",
       "      <td>       Not started</td>\n",
       "      <td> Train</td>\n",
       "    </tr>\n",
       "    <tr>\n",
       "      <th>4</th>\n",
       "      <td> 2. Renewal</td>\n",
       "      <td>    2. Opportunity</td>\n",
       "      <td> Greater China</td>\n",
       "      <td> China</td>\n",
       "      <td> China</td>\n",
       "      <td> Automotive</td>\n",
       "      <td> FORD MOTOR</td>\n",
       "      <td>  Ford Motor</td>\n",
       "      <td>                    Warehousing</td>\n",
       "      <td> 60</td>\n",
       "      <td> 3-5 Years</td>\n",
       "      <td> Qualified and signed off by Sponsor</td>\n",
       "      <td>  85</td>\n",
       "      <td> Awaiting Approval</td>\n",
       "      <td> Train</td>\n",
       "    </tr>\n",
       "    <tr>\n",
       "      <th>5</th>\n",
       "      <td>     1. New</td>\n",
       "      <td> 3. Potential Opps</td>\n",
       "      <td> North America</td>\n",
       "      <td>   USA</td>\n",
       "      <td>   CLA</td>\n",
       "      <td> Automotive</td>\n",
       "      <td> FORD MOTOR</td>\n",
       "      <td>  Ford Motor</td>\n",
       "      <td>                            NaN</td>\n",
       "      <td>  0</td>\n",
       "      <td> 1-2 Years</td>\n",
       "      <td>               Potential Opportunity</td>\n",
       "      <td>  10</td>\n",
       "      <td>               NaN</td>\n",
       "      <td> Train</td>\n",
       "    </tr>\n",
       "    <tr>\n",
       "      <th>6</th>\n",
       "      <td> 2. Renewal</td>\n",
       "      <td> 3. Potential Opps</td>\n",
       "      <td>  UK &amp; IRELAND</td>\n",
       "      <td>    UK</td>\n",
       "      <td>  ELLP</td>\n",
       "      <td> Automotive</td>\n",
       "      <td> FORD MOTOR</td>\n",
       "      <td>  Ford Motor</td>\n",
       "      <td>     DHL Lead Logistics Partner</td>\n",
       "      <td> 60</td>\n",
       "      <td>  &lt; 1 Year</td>\n",
       "      <td>               Potential Opportunity</td>\n",
       "      <td>  85</td>\n",
       "      <td>               NaN</td>\n",
       "      <td> Train</td>\n",
       "    </tr>\n",
       "    <tr>\n",
       "      <th>7</th>\n",
       "      <td> 2. Renewal</td>\n",
       "      <td> 3. Potential Opps</td>\n",
       "      <td>  UK &amp; IRELAND</td>\n",
       "      <td>    UK</td>\n",
       "      <td>  ELLP</td>\n",
       "      <td> Automotive</td>\n",
       "      <td> FORD MOTOR</td>\n",
       "      <td> Ford Otosan</td>\n",
       "      <td>                            NaN</td>\n",
       "      <td>  0</td>\n",
       "      <td> 1-2 Years</td>\n",
       "      <td>               Potential Opportunity</td>\n",
       "      <td>  85</td>\n",
       "      <td>               NaN</td>\n",
       "      <td> Train</td>\n",
       "    </tr>\n",
       "    <tr>\n",
       "      <th>8</th>\n",
       "      <td> 2. Renewal</td>\n",
       "      <td>           1. Gain</td>\n",
       "      <td> Greater China</td>\n",
       "      <td> China</td>\n",
       "      <td> China</td>\n",
       "      <td> Automotive</td>\n",
       "      <td> FORD MOTOR</td>\n",
       "      <td>  Ford Motor</td>\n",
       "      <td>                    Warehousing</td>\n",
       "      <td> 45</td>\n",
       "      <td> 1-2 Years</td>\n",
       "      <td>                     Contract Signed</td>\n",
       "      <td> 100</td>\n",
       "      <td>          Approved</td>\n",
       "      <td> Train</td>\n",
       "    </tr>\n",
       "    <tr>\n",
       "      <th>9</th>\n",
       "      <td>     1. New</td>\n",
       "      <td>      7. Cancelled</td>\n",
       "      <td> Greater China</td>\n",
       "      <td> China</td>\n",
       "      <td> China</td>\n",
       "      <td> Automotive</td>\n",
       "      <td> FORD MOTOR</td>\n",
       "      <td>  Ford Motor</td>\n",
       "      <td>                            NaN</td>\n",
       "      <td>  0</td>\n",
       "      <td> 2-3 Years</td>\n",
       "      <td>                   Closed - Canceled</td>\n",
       "      <td>   0</td>\n",
       "      <td>               NaN</td>\n",
       "      <td> Train</td>\n",
       "    </tr>\n",
       "  </tbody>\n",
       "</table>\n",
       "</div>"
      ],
      "text/plain": [
       "     Opp Type             Status         Region Country     BU      Sector  \\\n",
       "0  2. Renewal            5. Lost   UK & IRELAND      UK   ELLP  Automotive   \n",
       "1      1. New            5. Lost  Greater China   China  China  Automotive   \n",
       "2      1. New     2. Opportunity   UK & IRELAND      UK   ELLP  Automotive   \n",
       "3      1. New     2. Opportunity   UK & IRELAND      UK   ELLP  Automotive   \n",
       "4  2. Renewal     2. Opportunity  Greater China   China  China  Automotive   \n",
       "5      1. New  3. Potential Opps  North America     USA    CLA  Automotive   \n",
       "6  2. Renewal  3. Potential Opps   UK & IRELAND      UK   ELLP  Automotive   \n",
       "7  2. Renewal  3. Potential Opps   UK & IRELAND      UK   ELLP  Automotive   \n",
       "8  2. Renewal            1. Gain  Greater China   China  China  Automotive   \n",
       "9      1. New       7. Cancelled  Greater China   China  China  Automotive   \n",
       "\n",
       "  Customer Group     Customer                         Product  Payment Terms  \\\n",
       "0     FORD MOTOR   Ford Motor  Inbound-to-Manufacturing (I2M)             60   \n",
       "1     FORD MOTOR   Ford Motor            Aftermarket Services             40   \n",
       "2     FORD MOTOR   Ford Motor      DHL Lead Logistics Partner             60   \n",
       "3     FORD MOTOR   Ford Motor      DHL Lead Logistics Partner             60   \n",
       "4     FORD MOTOR   Ford Motor                     Warehousing             60   \n",
       "5     FORD MOTOR   Ford Motor                             NaN              0   \n",
       "6     FORD MOTOR   Ford Motor      DHL Lead Logistics Partner             60   \n",
       "7     FORD MOTOR  Ford Otosan                             NaN              0   \n",
       "8     FORD MOTOR   Ford Motor                     Warehousing             45   \n",
       "9     FORD MOTOR   Ford Motor                             NaN              0   \n",
       "\n",
       "  Contract Term                            Milestone   Prob to win %   \\\n",
       "0      < 1 Year                        Closed - Lost                0   \n",
       "1     2-3 Years                        Closed - Lost                0   \n",
       "2     2-3 Years  Verbal Customer Commitment Received               90   \n",
       "3     3-5 Years  Qualified and signed off by Sponsor               20   \n",
       "4     3-5 Years  Qualified and signed off by Sponsor               85   \n",
       "5     1-2 Years                Potential Opportunity               10   \n",
       "6      < 1 Year                Potential Opportunity               85   \n",
       "7     1-2 Years                Potential Opportunity               85   \n",
       "8     1-2 Years                      Contract Signed              100   \n",
       "9     2-3 Years                    Closed - Canceled                0   \n",
       "\n",
       "          BCA_Status   type  \n",
       "0           Approved  Train  \n",
       "1        Not started  Train  \n",
       "2  Awaiting Approval  Train  \n",
       "3        Not started  Train  \n",
       "4  Awaiting Approval  Train  \n",
       "5                NaN  Train  \n",
       "6                NaN  Train  \n",
       "7                NaN  Train  \n",
       "8           Approved  Train  \n",
       "9                NaN  Train  "
      ]
     },
     "execution_count": 2,
     "metadata": {},
     "output_type": "execute_result"
    }
   ],
   "source": [
    "train=pd.read_csv('data/Opportunities_examples.csv')\n",
    "test=pd.read_csv('data/Opportunities_examples.csv')\n",
    "train['type']='Train' #Create a flag for Train and Test Data set\n",
    "test['type']='Test'\n",
    "fullData = pd.concat([train,test],axis=0) #Combined both Train and Test Data set\n",
    "\n",
    "fullData = fullData.drop(['Opp No','Created', 'Cust Dec Date','Go Live Date','Date Exp Gain','Ann Rev','Ann GP'], axis=1)\n",
    "\n",
    "fullData.columns # This will show all the column names\n",
    "fullData.head(10) # Show first 10 records of dataframe"
   ]
  },
  {
   "cell_type": "markdown",
   "metadata": {},
   "source": [
    "We want to do is see what data types we have"
   ]
  },
  {
   "cell_type": "code",
   "execution_count": 3,
   "metadata": {
    "collapsed": false
   },
   "outputs": [
    {
     "data": {
      "text/plain": [
       "Opp Type           object\n",
       "Status             object\n",
       "Region             object\n",
       "Country            object\n",
       "BU                 object\n",
       "Sector             object\n",
       "Customer Group     object\n",
       "Customer           object\n",
       "Product            object\n",
       "Payment Terms       int64\n",
       "Contract Term      object\n",
       "Milestone          object\n",
       " Prob to win %      int64\n",
       "BCA_Status         object\n",
       "type               object\n",
       "dtype: object"
      ]
     },
     "execution_count": 3,
     "metadata": {},
     "output_type": "execute_result"
    }
   ],
   "source": [
    "fullData.dtypes"
   ]
  },
  {
   "cell_type": "markdown",
   "metadata": {},
   "source": [
    "Summary of numerical fields"
   ]
  },
  {
   "cell_type": "code",
   "execution_count": 4,
   "metadata": {
    "collapsed": false
   },
   "outputs": [
    {
     "data": {
      "text/html": [
       "<div style=\"max-height:1000px;max-width:1500px;overflow:auto;\">\n",
       "<table border=\"1\" class=\"dataframe\">\n",
       "  <thead>\n",
       "    <tr style=\"text-align: right;\">\n",
       "      <th></th>\n",
       "      <th>Payment Terms</th>\n",
       "      <th> Prob to win % </th>\n",
       "    </tr>\n",
       "  </thead>\n",
       "  <tbody>\n",
       "    <tr>\n",
       "      <th>count</th>\n",
       "      <td> 130.000000</td>\n",
       "      <td> 130.000000</td>\n",
       "    </tr>\n",
       "    <tr>\n",
       "      <th>mean</th>\n",
       "      <td>  51.815385</td>\n",
       "      <td>  61.123077</td>\n",
       "    </tr>\n",
       "    <tr>\n",
       "      <th>std</th>\n",
       "      <td>  27.486370</td>\n",
       "      <td>  41.296248</td>\n",
       "    </tr>\n",
       "    <tr>\n",
       "      <th>min</th>\n",
       "      <td>   0.000000</td>\n",
       "      <td>   0.000000</td>\n",
       "    </tr>\n",
       "    <tr>\n",
       "      <th>25%</th>\n",
       "      <td>  35.000000</td>\n",
       "      <td>  10.000000</td>\n",
       "    </tr>\n",
       "    <tr>\n",
       "      <th>50%</th>\n",
       "      <td>  60.000000</td>\n",
       "      <td>  85.000000</td>\n",
       "    </tr>\n",
       "    <tr>\n",
       "      <th>75%</th>\n",
       "      <td>  60.000000</td>\n",
       "      <td> 100.000000</td>\n",
       "    </tr>\n",
       "    <tr>\n",
       "      <th>max</th>\n",
       "      <td> 120.000000</td>\n",
       "      <td> 100.000000</td>\n",
       "    </tr>\n",
       "  </tbody>\n",
       "</table>\n",
       "</div>"
      ],
      "text/plain": [
       "       Payment Terms   Prob to win % \n",
       "count     130.000000       130.000000\n",
       "mean       51.815385        61.123077\n",
       "std        27.486370        41.296248\n",
       "min         0.000000         0.000000\n",
       "25%        35.000000        10.000000\n",
       "50%        60.000000        85.000000\n",
       "75%        60.000000       100.000000\n",
       "max       120.000000       100.000000"
      ]
     },
     "execution_count": 4,
     "metadata": {},
     "output_type": "execute_result"
    }
   ],
   "source": [
    "fullData.describe()"
   ]
  },
  {
   "cell_type": "markdown",
   "metadata": {},
   "source": [
    "Examples number of each opportunity types"
   ]
  },
  {
   "cell_type": "code",
   "execution_count": 5,
   "metadata": {
    "collapsed": false
   },
   "outputs": [
    {
     "data": {
      "text/plain": [
       "Opp Type           False\n",
       "Status             False\n",
       "Region             False\n",
       "Country            False\n",
       "BU                 False\n",
       "Sector             False\n",
       "Customer Group     False\n",
       "Customer           False\n",
       "Product             True\n",
       "Payment Terms      False\n",
       "Contract Term      False\n",
       "Milestone          False\n",
       " Prob to win %     False\n",
       "BCA_Status          True\n",
       "type               False\n",
       "dtype: bool"
      ]
     },
     "execution_count": 5,
     "metadata": {},
     "output_type": "execute_result"
    }
   ],
   "source": [
    "target_col = [\"Status\"]\n",
    "cat_cols = ['Opp Type','Region','Country','BU','Sector', 'Customer Group','Customer','Product','Payment Terms','Contract Term','Milestone','BCA_Status']\n",
    "num_cols= list(set(list(fullData.columns))-set(cat_cols))\n",
    "other_col=['type'] #Test and Train Data set identifier\n",
    "\n",
    "fullData.isnull().any()#Will return the feature with True or False,True means have missing value else False"
   ]
  },
  {
   "cell_type": "markdown",
   "metadata": {},
   "source": [
    "For the sake of simplicity, just fill in the value with the most common value"
   ]
  },
  {
   "cell_type": "code",
   "execution_count": 6,
   "metadata": {
    "collapsed": false
   },
   "outputs": [],
   "source": [
    "fullData = fullData.fillna({\"Product\": \"Warehousing\"})\n",
    "fullData = fullData.fillna({\"Cust Dec Date\": \"30/03/2017\"})\n",
    "fullData = fullData.fillna({\"Go Live Date\": \"03/07/2017\"})\n",
    "fullData = fullData.fillna({\"BCA_Status\": \"Approved\"})\n",
    "fullData = fullData.fillna({\"Payment Terms\": \"2-3 Years\"})"
   ]
  },
  {
   "cell_type": "markdown",
   "metadata": {},
   "source": [
    "Combined numerical and Categorical variables."
   ]
  },
  {
   "cell_type": "code",
   "execution_count": 7,
   "metadata": {
    "collapsed": true
   },
   "outputs": [],
   "source": [
    "num_cat_cols = num_cols+cat_cols"
   ]
  },
  {
   "cell_type": "markdown",
   "metadata": {},
   "source": [
    "Create a new variable for each variable having missing value with VariableName_NA and flag missing value with 1 and other with 0"
   ]
  },
  {
   "cell_type": "code",
   "execution_count": 8,
   "metadata": {
    "collapsed": true
   },
   "outputs": [],
   "source": [
    "for var in num_cat_cols:\n",
    "    if fullData[var].isnull().any()==True:\n",
    "        fullData[var+'_NA']=fullData[var].isnull()*1"
   ]
  },
  {
   "cell_type": "markdown",
   "metadata": {},
   "source": [
    "Create label encoders for categorical features"
   ]
  },
  {
   "cell_type": "code",
   "execution_count": 9,
   "metadata": {
    "collapsed": true
   },
   "outputs": [],
   "source": [
    "for var in cat_cols:\n",
    " number = LabelEncoder()\n",
    " fullData[var] = number.fit_transform(fullData[var].astype('str'))"
   ]
  },
  {
   "cell_type": "code",
   "execution_count": 10,
   "metadata": {
    "collapsed": false
   },
   "outputs": [
    {
     "name": "stdout",
     "output_type": "stream",
     "text": [
      "<class 'pandas.core.frame.DataFrame'>\n",
      "Int64Index: 130 entries, 0 to 64\n",
      "Data columns (total 15 columns):\n",
      "Opp Type           130 non-null int64\n",
      "Status             130 non-null object\n",
      "Region             130 non-null int64\n",
      "Country            130 non-null int64\n",
      "BU                 130 non-null int64\n",
      "Sector             130 non-null int64\n",
      "Customer Group     130 non-null int64\n",
      "Customer           130 non-null int64\n",
      "Product            130 non-null int64\n",
      "Payment Terms      130 non-null int64\n",
      "Contract Term      130 non-null int64\n",
      "Milestone          130 non-null int64\n",
      " Prob to win %     130 non-null int64\n",
      "BCA_Status         130 non-null int64\n",
      "type               130 non-null object\n",
      "dtypes: int64(13), object(2)\n",
      "memory usage: 16.2+ KB\n"
     ]
    }
   ],
   "source": [
    "fullData.info()"
   ]
  },
  {
   "cell_type": "markdown",
   "metadata": {},
   "source": [
    "We using Random Forest Classifier to classify opportunity type. "
   ]
  },
  {
   "cell_type": "code",
   "execution_count": 11,
   "metadata": {
    "collapsed": false
   },
   "outputs": [
    {
     "name": "stderr",
     "output_type": "stream",
     "text": [
      "/usr/local/lib/python2.7/site-packages/ipykernel/__main__.py:4: SettingWithCopyWarning: \n",
      "A value is trying to be set on a copy of a slice from a DataFrame.\n",
      "Try using .loc[row_indexer,col_indexer] = value instead\n",
      "\n",
      "See the the caveats in the documentation: http://pandas.pydata.org/pandas-docs/stable/indexing.html#indexing-view-versus-copy\n",
      "/usr/local/lib/python2.7/site-packages/sklearn/metrics/metrics.py:909: UndefinedMetricWarning: No positive samples in y_true, true positive value should be meaningless\n",
      "  UndefinedMetricWarning)\n"
     ]
    },
    {
     "ename": "ValueError",
     "evalue": "Input contains NaN, infinity or a value too large for dtype('float64').",
     "output_type": "error",
     "traceback": [
      "\u001b[0;31m---------------------------------------------------------------------------\u001b[0m",
      "\u001b[0;31mValueError\u001b[0m                                Traceback (most recent call last)",
      "\u001b[0;32m<ipython-input-11-c18eff1ee1be>\u001b[0m in \u001b[0;36m<module>\u001b[0;34m()\u001b[0m\n\u001b[1;32m     19\u001b[0m \u001b[0mstatus\u001b[0m \u001b[0;34m=\u001b[0m \u001b[0mrf\u001b[0m\u001b[0;34m.\u001b[0m\u001b[0mpredict_proba\u001b[0m\u001b[0;34m(\u001b[0m\u001b[0mx_validate\u001b[0m\u001b[0;34m)\u001b[0m\u001b[0;34m\u001b[0m\u001b[0m\n\u001b[1;32m     20\u001b[0m \u001b[0mfpr\u001b[0m\u001b[0;34m,\u001b[0m \u001b[0mtpr\u001b[0m\u001b[0;34m,\u001b[0m \u001b[0m_\u001b[0m \u001b[0;34m=\u001b[0m \u001b[0mroc_curve\u001b[0m\u001b[0;34m(\u001b[0m\u001b[0my_validate\u001b[0m\u001b[0;34m,\u001b[0m \u001b[0mstatus\u001b[0m\u001b[0;34m[\u001b[0m\u001b[0;34m:\u001b[0m\u001b[0;34m,\u001b[0m\u001b[0;36m1\u001b[0m\u001b[0;34m]\u001b[0m\u001b[0;34m,\u001b[0m \u001b[0mpos_label\u001b[0m\u001b[0;34m=\u001b[0m\u001b[0;34m'T'\u001b[0m\u001b[0;34m)\u001b[0m\u001b[0;34m\u001b[0m\u001b[0m\n\u001b[0;32m---> 21\u001b[0;31m \u001b[0mroc_auc\u001b[0m \u001b[0;34m=\u001b[0m \u001b[0mauc\u001b[0m\u001b[0;34m(\u001b[0m\u001b[0mfpr\u001b[0m\u001b[0;34m,\u001b[0m \u001b[0mtpr\u001b[0m\u001b[0;34m)\u001b[0m\u001b[0;34m\u001b[0m\u001b[0m\n\u001b[0m\u001b[1;32m     22\u001b[0m \u001b[0;32mprint\u001b[0m \u001b[0mroc_auc\u001b[0m\u001b[0;34m\u001b[0m\u001b[0m\n\u001b[1;32m     23\u001b[0m \u001b[0;34m\u001b[0m\u001b[0m\n",
      "\u001b[0;32m/usr/local/lib/python2.7/site-packages/sklearn/metrics/metrics.pyc\u001b[0m in \u001b[0;36mauc\u001b[0;34m(x, y, reorder)\u001b[0m\n\u001b[1;32m    205\u001b[0m \u001b[0;34m\u001b[0m\u001b[0m\n\u001b[1;32m    206\u001b[0m     \"\"\"\n\u001b[0;32m--> 207\u001b[0;31m     \u001b[0mx\u001b[0m\u001b[0;34m,\u001b[0m \u001b[0my\u001b[0m \u001b[0;34m=\u001b[0m \u001b[0mcheck_arrays\u001b[0m\u001b[0;34m(\u001b[0m\u001b[0mx\u001b[0m\u001b[0;34m,\u001b[0m \u001b[0my\u001b[0m\u001b[0;34m)\u001b[0m\u001b[0;34m\u001b[0m\u001b[0m\n\u001b[0m\u001b[1;32m    208\u001b[0m     \u001b[0;32mif\u001b[0m \u001b[0mx\u001b[0m\u001b[0;34m.\u001b[0m\u001b[0mshape\u001b[0m\u001b[0;34m[\u001b[0m\u001b[0;36m0\u001b[0m\u001b[0;34m]\u001b[0m \u001b[0;34m<\u001b[0m \u001b[0;36m2\u001b[0m\u001b[0;34m:\u001b[0m\u001b[0;34m\u001b[0m\u001b[0m\n\u001b[1;32m    209\u001b[0m         raise ValueError('At least 2 points are needed to compute'\n",
      "\u001b[0;32m/usr/local/lib/python2.7/site-packages/sklearn/utils/validation.pyc\u001b[0m in \u001b[0;36mcheck_arrays\u001b[0;34m(*arrays, **options)\u001b[0m\n\u001b[1;32m    281\u001b[0m                     \u001b[0marray\u001b[0m \u001b[0;34m=\u001b[0m \u001b[0mnp\u001b[0m\u001b[0;34m.\u001b[0m\u001b[0masarray\u001b[0m\u001b[0;34m(\u001b[0m\u001b[0marray\u001b[0m\u001b[0;34m,\u001b[0m \u001b[0mdtype\u001b[0m\u001b[0;34m=\u001b[0m\u001b[0mdtype\u001b[0m\u001b[0;34m)\u001b[0m\u001b[0;34m\u001b[0m\u001b[0m\n\u001b[1;32m    282\u001b[0m                 \u001b[0;32mif\u001b[0m \u001b[0;32mnot\u001b[0m \u001b[0mallow_nans\u001b[0m\u001b[0;34m:\u001b[0m\u001b[0;34m\u001b[0m\u001b[0m\n\u001b[0;32m--> 283\u001b[0;31m                     \u001b[0m_assert_all_finite\u001b[0m\u001b[0;34m(\u001b[0m\u001b[0marray\u001b[0m\u001b[0;34m)\u001b[0m\u001b[0;34m\u001b[0m\u001b[0m\n\u001b[0m\u001b[1;32m    284\u001b[0m \u001b[0;34m\u001b[0m\u001b[0m\n\u001b[1;32m    285\u001b[0m             \u001b[0;32mif\u001b[0m \u001b[0;32mnot\u001b[0m \u001b[0mallow_nd\u001b[0m \u001b[0;32mand\u001b[0m \u001b[0marray\u001b[0m\u001b[0;34m.\u001b[0m\u001b[0mndim\u001b[0m \u001b[0;34m>=\u001b[0m \u001b[0;36m3\u001b[0m\u001b[0;34m:\u001b[0m\u001b[0;34m\u001b[0m\u001b[0m\n",
      "\u001b[0;32m/usr/local/lib/python2.7/site-packages/sklearn/utils/validation.pyc\u001b[0m in \u001b[0;36m_assert_all_finite\u001b[0;34m(X)\u001b[0m\n\u001b[1;32m     41\u001b[0m             and not np.isfinite(X).all()):\n\u001b[1;32m     42\u001b[0m         raise ValueError(\"Input contains NaN, infinity\"\n\u001b[0;32m---> 43\u001b[0;31m                          \" or a value too large for %r.\" % X.dtype)\n\u001b[0m\u001b[1;32m     44\u001b[0m \u001b[0;34m\u001b[0m\u001b[0m\n\u001b[1;32m     45\u001b[0m \u001b[0;34m\u001b[0m\u001b[0m\n",
      "\u001b[0;31mValueError\u001b[0m: Input contains NaN, infinity or a value too large for dtype('float64')."
     ]
    }
   ],
   "source": [
    "train=fullData[fullData['type']=='Train']\n",
    "test=fullData[fullData['type']=='Test']\n",
    "\n",
    "train['is_train'] = np.random.uniform(0, 1, len(train)) <= .75\n",
    "Train, Validate = train[train['is_train']==True], train[train['is_train']==False]\n",
    "\n",
    "features=list(set(list(fullData.columns))-set(target_col)-set(other_col))\n",
    "\n",
    "x_train = Train[list(features)].values\n",
    "y_train = Train[\"Status\"].values\n",
    "x_validate = Validate[list(features)].values\n",
    "y_validate = Validate[\"Status\"].values\n",
    "x_test=test[list(features)].values\n",
    "\n",
    "random.seed(100)\n",
    "rf = RandomForestClassifier(n_estimators=1000)\n",
    "rf.fit(x_train, y_train)\n",
    "\n",
    "status = rf.predict_proba(x_validate)\n",
    "fpr, tpr, _ = roc_curve(y_validate, status[:,1], pos_label='T')\n",
    "roc_auc = auc(fpr, tpr)\n",
    "print roc_auc\n",
    "\n",
    "final_status = rf.predict_proba(x_test)\n",
    "test[\"Status\"]=final_status[:,1]\n",
    "test.to_csv('model_output.csv',columns=['Status'])"
   ]
  }
 ],
 "metadata": {
  "kernelspec": {
   "display_name": "Python 2",
   "language": "python",
   "name": "python2"
  },
  "language_info": {
   "codemirror_mode": {
    "name": "ipython",
    "version": 2
   },
   "file_extension": ".py",
   "mimetype": "text/x-python",
   "name": "python",
   "nbconvert_exporter": "python",
   "pygments_lexer": "ipython2",
   "version": "2.7.11"
  }
 },
 "nbformat": 4,
 "nbformat_minor": 0
}
