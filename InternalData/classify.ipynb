{
 "cells": [
  {
   "cell_type": "markdown",
   "metadata": {
    "collapsed": true
   },
   "source": [
    "Retrieve Opportunities_examples.csv dataset from DHL.\n",
    "\n",
    "The columns in this dataset are:\n",
    "Opp No\tOpp Type\tStatus\tRegion\tCountry\tBU\tSector\tCustomer Group\tCustomer\tProduct\tCreated\tCust Dec Date\tGo Live Date\tDate Exp Gain\tPayment Terms\tContract Term\tMilestone\t Prob to win % \tBCA_Status\tAnn Rev (Ûm)\tAnn GP (Ûm)\n",
    "\n",
    "The model was been generated using Random Forest approach (http://scikit-learn.org/stable/), Pandas (http://pandas.pydata.org/) and Numpy (http://www.numpy.org/)."
   ]
  },
  {
   "cell_type": "code",
   "execution_count": 1,
   "metadata": {
    "collapsed": true
   },
   "outputs": [],
   "source": [
    "import pandas as pd\n",
    "import numpy as np\n",
    "from sklearn.preprocessing import LabelEncoder\n",
    "import random\n",
    "from sklearn.ensemble import RandomForestClassifier\n",
    "from sklearn.ensemble import GradientBoostingClassifier\n",
    "from sklearn.metrics import (accuracy_score,\n",
    "                             average_precision_score,\n",
    "                             auc,\n",
    "                             #auc_score,\n",
    "                             classification_report,\n",
    "                             confusion_matrix,\n",
    "                             explained_variance_score,\n",
    "                             f1_score,\n",
    "                             fbeta_score,\n",
    "                             hamming_loss,\n",
    "                             hinge_loss,\n",
    "                             jaccard_similarity_score,\n",
    "                             log_loss,\n",
    "                             matthews_corrcoef,\n",
    "                             mean_squared_error,\n",
    "                             mean_absolute_error,\n",
    "                             precision_recall_curve,\n",
    "                             precision_recall_fscore_support,\n",
    "                             precision_score,\n",
    "                             recall_score,\n",
    "                             r2_score,\n",
    "                             roc_auc_score,\n",
    "                             roc_curve,\n",
    "                             zero_one_loss)\n",
    "from IPython.display import Image"
   ]
  },
  {
   "cell_type": "markdown",
   "metadata": {},
   "source": [
    "Sample Opportunities_examples data"
   ]
  },
  {
   "cell_type": "code",
   "execution_count": 2,
   "metadata": {
    "collapsed": false
   },
   "outputs": [
    {
     "data": {
      "text/html": [
       "<div style=\"max-height:1000px;max-width:1500px;overflow:auto;\">\n",
       "<table border=\"1\" class=\"dataframe\">\n",
       "  <thead>\n",
       "    <tr style=\"text-align: right;\">\n",
       "      <th></th>\n",
       "      <th>Opp No</th>\n",
       "      <th>Opp Type</th>\n",
       "      <th>Status</th>\n",
       "      <th>Region</th>\n",
       "      <th>Country</th>\n",
       "      <th>BU</th>\n",
       "      <th>Sector</th>\n",
       "      <th>Customer Group</th>\n",
       "      <th>Customer</th>\n",
       "      <th>Product</th>\n",
       "      <th>...</th>\n",
       "      <th>Go Live Date</th>\n",
       "      <th>Date Exp Gain</th>\n",
       "      <th>Payment Terms</th>\n",
       "      <th>Contract Term</th>\n",
       "      <th>Milestone</th>\n",
       "      <th> Prob to win % </th>\n",
       "      <th>BCA_Status</th>\n",
       "      <th>Ann Rev (�m)</th>\n",
       "      <th>Ann GP (�m)</th>\n",
       "      <th>type</th>\n",
       "    </tr>\n",
       "  </thead>\n",
       "  <tbody>\n",
       "    <tr>\n",
       "      <th>0</th>\n",
       "      <td> 9WG2RW</td>\n",
       "      <td> 2. Renewal</td>\n",
       "      <td>           5. Lost</td>\n",
       "      <td>  UK &amp; IRELAND</td>\n",
       "      <td>    UK</td>\n",
       "      <td>  ELLP</td>\n",
       "      <td> Automotive</td>\n",
       "      <td> FORD MOTOR</td>\n",
       "      <td>  Ford Motor</td>\n",
       "      <td> Inbound-to-Manufacturing (I2M)</td>\n",
       "      <td>...</td>\n",
       "      <td> 01/12/2016</td>\n",
       "      <td> 31/12/2016</td>\n",
       "      <td> 60</td>\n",
       "      <td>  &lt; 1 Year</td>\n",
       "      <td>                       Closed - Lost</td>\n",
       "      <td>   0</td>\n",
       "      <td>          Approved</td>\n",
       "      <td>   0.33</td>\n",
       "      <td>  0.13</td>\n",
       "      <td> Train</td>\n",
       "    </tr>\n",
       "    <tr>\n",
       "      <th>1</th>\n",
       "      <td> 9YG5FC</td>\n",
       "      <td>     1. New</td>\n",
       "      <td>           5. Lost</td>\n",
       "      <td> Greater China</td>\n",
       "      <td> China</td>\n",
       "      <td> China</td>\n",
       "      <td> Automotive</td>\n",
       "      <td> FORD MOTOR</td>\n",
       "      <td>  Ford Motor</td>\n",
       "      <td>           Aftermarket Services</td>\n",
       "      <td>...</td>\n",
       "      <td> 29/12/2017</td>\n",
       "      <td> 24/11/2017</td>\n",
       "      <td> 40</td>\n",
       "      <td> 2-3 Years</td>\n",
       "      <td>                       Closed - Lost</td>\n",
       "      <td>   0</td>\n",
       "      <td>       Not started</td>\n",
       "      <td>  73.59</td>\n",
       "      <td> 57.31</td>\n",
       "      <td> Train</td>\n",
       "    </tr>\n",
       "    <tr>\n",
       "      <th>2</th>\n",
       "      <td> A4THP4</td>\n",
       "      <td>     1. New</td>\n",
       "      <td>    2. Opportunity</td>\n",
       "      <td>  UK &amp; IRELAND</td>\n",
       "      <td>    UK</td>\n",
       "      <td>  ELLP</td>\n",
       "      <td> Automotive</td>\n",
       "      <td> FORD MOTOR</td>\n",
       "      <td>  Ford Motor</td>\n",
       "      <td>     DHL Lead Logistics Partner</td>\n",
       "      <td>...</td>\n",
       "      <td> 31/07/2017</td>\n",
       "      <td> 31/03/2017</td>\n",
       "      <td> 60</td>\n",
       "      <td> 2-3 Years</td>\n",
       "      <td> Verbal Customer Commitment Received</td>\n",
       "      <td>  90</td>\n",
       "      <td> Awaiting Approval</td>\n",
       "      <td>  17.74</td>\n",
       "      <td> 35.41</td>\n",
       "      <td> Train</td>\n",
       "    </tr>\n",
       "    <tr>\n",
       "      <th>3</th>\n",
       "      <td> A54GJ8</td>\n",
       "      <td>     1. New</td>\n",
       "      <td>    2. Opportunity</td>\n",
       "      <td>  UK &amp; IRELAND</td>\n",
       "      <td>    UK</td>\n",
       "      <td>  ELLP</td>\n",
       "      <td> Automotive</td>\n",
       "      <td> FORD MOTOR</td>\n",
       "      <td>  Ford Motor</td>\n",
       "      <td>     DHL Lead Logistics Partner</td>\n",
       "      <td>...</td>\n",
       "      <td> 08/01/2018</td>\n",
       "      <td> 02/10/2017</td>\n",
       "      <td> 60</td>\n",
       "      <td> 3-5 Years</td>\n",
       "      <td> Qualified and signed off by Sponsor</td>\n",
       "      <td>  20</td>\n",
       "      <td>       Not started</td>\n",
       "      <td> 176.25</td>\n",
       "      <td> 12.14</td>\n",
       "      <td> Train</td>\n",
       "    </tr>\n",
       "    <tr>\n",
       "      <th>4</th>\n",
       "      <td> 9XY2SC</td>\n",
       "      <td> 2. Renewal</td>\n",
       "      <td>    2. Opportunity</td>\n",
       "      <td> Greater China</td>\n",
       "      <td> China</td>\n",
       "      <td> China</td>\n",
       "      <td> Automotive</td>\n",
       "      <td> FORD MOTOR</td>\n",
       "      <td>  Ford Motor</td>\n",
       "      <td>                    Warehousing</td>\n",
       "      <td>...</td>\n",
       "      <td> 01/01/2017</td>\n",
       "      <td> 16/06/2017</td>\n",
       "      <td> 60</td>\n",
       "      <td> 3-5 Years</td>\n",
       "      <td> Qualified and signed off by Sponsor</td>\n",
       "      <td>  85</td>\n",
       "      <td> Awaiting Approval</td>\n",
       "      <td>  23.69</td>\n",
       "      <td> 18.87</td>\n",
       "      <td> Train</td>\n",
       "    </tr>\n",
       "    <tr>\n",
       "      <th>5</th>\n",
       "      <td> 244590</td>\n",
       "      <td>     1. New</td>\n",
       "      <td> 3. Potential Opps</td>\n",
       "      <td> North America</td>\n",
       "      <td>   USA</td>\n",
       "      <td>   CLA</td>\n",
       "      <td> Automotive</td>\n",
       "      <td> FORD MOTOR</td>\n",
       "      <td>  Ford Motor</td>\n",
       "      <td>                            NaN</td>\n",
       "      <td>...</td>\n",
       "      <td> 26/02/2018</td>\n",
       "      <td> 02/10/2017</td>\n",
       "      <td>  0</td>\n",
       "      <td> 1-2 Years</td>\n",
       "      <td>               Potential Opportunity</td>\n",
       "      <td>  10</td>\n",
       "      <td>               NaN</td>\n",
       "      <td>  98.12</td>\n",
       "      <td> 76.41</td>\n",
       "      <td> Train</td>\n",
       "    </tr>\n",
       "    <tr>\n",
       "      <th>6</th>\n",
       "      <td> 252136</td>\n",
       "      <td> 2. Renewal</td>\n",
       "      <td> 3. Potential Opps</td>\n",
       "      <td>  UK &amp; IRELAND</td>\n",
       "      <td>    UK</td>\n",
       "      <td>  ELLP</td>\n",
       "      <td> Automotive</td>\n",
       "      <td> FORD MOTOR</td>\n",
       "      <td>  Ford Motor</td>\n",
       "      <td>     DHL Lead Logistics Partner</td>\n",
       "      <td>...</td>\n",
       "      <td> 01/01/2018</td>\n",
       "      <td> 05/05/2017</td>\n",
       "      <td> 60</td>\n",
       "      <td>  &lt; 1 Year</td>\n",
       "      <td>               Potential Opportunity</td>\n",
       "      <td>  85</td>\n",
       "      <td>               NaN</td>\n",
       "      <td>  24.60</td>\n",
       "      <td> 24.27</td>\n",
       "      <td> Train</td>\n",
       "    </tr>\n",
       "    <tr>\n",
       "      <th>7</th>\n",
       "      <td> 256410</td>\n",
       "      <td> 2. Renewal</td>\n",
       "      <td> 3. Potential Opps</td>\n",
       "      <td>  UK &amp; IRELAND</td>\n",
       "      <td>    UK</td>\n",
       "      <td>  ELLP</td>\n",
       "      <td> Automotive</td>\n",
       "      <td> FORD MOTOR</td>\n",
       "      <td> Ford Otosan</td>\n",
       "      <td>                            NaN</td>\n",
       "      <td>...</td>\n",
       "      <td> 24/07/2017</td>\n",
       "      <td> 17/07/2017</td>\n",
       "      <td>  0</td>\n",
       "      <td> 1-2 Years</td>\n",
       "      <td>               Potential Opportunity</td>\n",
       "      <td>  85</td>\n",
       "      <td>               NaN</td>\n",
       "      <td>   0.01</td>\n",
       "      <td>  0.00</td>\n",
       "      <td> Train</td>\n",
       "    </tr>\n",
       "    <tr>\n",
       "      <th>8</th>\n",
       "      <td> 256989</td>\n",
       "      <td> 2. Renewal</td>\n",
       "      <td>           1. Gain</td>\n",
       "      <td> Greater China</td>\n",
       "      <td> China</td>\n",
       "      <td> China</td>\n",
       "      <td> Automotive</td>\n",
       "      <td> FORD MOTOR</td>\n",
       "      <td>  Ford Motor</td>\n",
       "      <td>                    Warehousing</td>\n",
       "      <td>...</td>\n",
       "      <td> 01/12/2015</td>\n",
       "      <td> 11/01/2017</td>\n",
       "      <td> 45</td>\n",
       "      <td> 1-2 Years</td>\n",
       "      <td>                     Contract Signed</td>\n",
       "      <td> 100</td>\n",
       "      <td>          Approved</td>\n",
       "      <td>  26.32</td>\n",
       "      <td> 24.28</td>\n",
       "      <td> Train</td>\n",
       "    </tr>\n",
       "    <tr>\n",
       "      <th>9</th>\n",
       "      <td> 262296</td>\n",
       "      <td>     1. New</td>\n",
       "      <td>      7. Cancelled</td>\n",
       "      <td> Greater China</td>\n",
       "      <td> China</td>\n",
       "      <td> China</td>\n",
       "      <td> Automotive</td>\n",
       "      <td> FORD MOTOR</td>\n",
       "      <td>  Ford Motor</td>\n",
       "      <td>                            NaN</td>\n",
       "      <td>...</td>\n",
       "      <td> 01/07/2017</td>\n",
       "      <td> 30/06/2017</td>\n",
       "      <td>  0</td>\n",
       "      <td> 2-3 Years</td>\n",
       "      <td>                   Closed - Canceled</td>\n",
       "      <td>   0</td>\n",
       "      <td>               NaN</td>\n",
       "      <td>  55.19</td>\n",
       "      <td>  4.30</td>\n",
       "      <td> Train</td>\n",
       "    </tr>\n",
       "  </tbody>\n",
       "</table>\n",
       "<p>10 rows × 22 columns</p>\n",
       "</div>"
      ],
      "text/plain": [
       "   Opp No    Opp Type             Status         Region Country     BU  \\\n",
       "0  9WG2RW  2. Renewal            5. Lost   UK & IRELAND      UK   ELLP   \n",
       "1  9YG5FC      1. New            5. Lost  Greater China   China  China   \n",
       "2  A4THP4      1. New     2. Opportunity   UK & IRELAND      UK   ELLP   \n",
       "3  A54GJ8      1. New     2. Opportunity   UK & IRELAND      UK   ELLP   \n",
       "4  9XY2SC  2. Renewal     2. Opportunity  Greater China   China  China   \n",
       "5  244590      1. New  3. Potential Opps  North America     USA    CLA   \n",
       "6  252136  2. Renewal  3. Potential Opps   UK & IRELAND      UK   ELLP   \n",
       "7  256410  2. Renewal  3. Potential Opps   UK & IRELAND      UK   ELLP   \n",
       "8  256989  2. Renewal            1. Gain  Greater China   China  China   \n",
       "9  262296      1. New       7. Cancelled  Greater China   China  China   \n",
       "\n",
       "       Sector Customer Group     Customer                         Product  \\\n",
       "0  Automotive     FORD MOTOR   Ford Motor  Inbound-to-Manufacturing (I2M)   \n",
       "1  Automotive     FORD MOTOR   Ford Motor            Aftermarket Services   \n",
       "2  Automotive     FORD MOTOR   Ford Motor      DHL Lead Logistics Partner   \n",
       "3  Automotive     FORD MOTOR   Ford Motor      DHL Lead Logistics Partner   \n",
       "4  Automotive     FORD MOTOR   Ford Motor                     Warehousing   \n",
       "5  Automotive     FORD MOTOR   Ford Motor                             NaN   \n",
       "6  Automotive     FORD MOTOR   Ford Motor      DHL Lead Logistics Partner   \n",
       "7  Automotive     FORD MOTOR  Ford Otosan                             NaN   \n",
       "8  Automotive     FORD MOTOR   Ford Motor                     Warehousing   \n",
       "9  Automotive     FORD MOTOR   Ford Motor                             NaN   \n",
       "\n",
       "   ...   Go Live Date Date Exp Gain Payment Terms Contract Term  \\\n",
       "0  ...     01/12/2016    31/12/2016            60      < 1 Year   \n",
       "1  ...     29/12/2017    24/11/2017            40     2-3 Years   \n",
       "2  ...     31/07/2017    31/03/2017            60     2-3 Years   \n",
       "3  ...     08/01/2018    02/10/2017            60     3-5 Years   \n",
       "4  ...     01/01/2017    16/06/2017            60     3-5 Years   \n",
       "5  ...     26/02/2018    02/10/2017             0     1-2 Years   \n",
       "6  ...     01/01/2018    05/05/2017            60      < 1 Year   \n",
       "7  ...     24/07/2017    17/07/2017             0     1-2 Years   \n",
       "8  ...     01/12/2015    11/01/2017            45     1-2 Years   \n",
       "9  ...     01/07/2017    30/06/2017             0     2-3 Years   \n",
       "\n",
       "                             Milestone  Prob to win %          BCA_Status  \\\n",
       "0                        Closed - Lost               0           Approved   \n",
       "1                        Closed - Lost               0        Not started   \n",
       "2  Verbal Customer Commitment Received              90  Awaiting Approval   \n",
       "3  Qualified and signed off by Sponsor              20        Not started   \n",
       "4  Qualified and signed off by Sponsor              85  Awaiting Approval   \n",
       "5                Potential Opportunity              10                NaN   \n",
       "6                Potential Opportunity              85                NaN   \n",
       "7                Potential Opportunity              85                NaN   \n",
       "8                      Contract Signed             100           Approved   \n",
       "9                    Closed - Canceled               0                NaN   \n",
       "\n",
       "   Ann Rev (�m) Ann GP (�m)   type  \n",
       "0          0.33        0.13  Train  \n",
       "1         73.59       57.31  Train  \n",
       "2         17.74       35.41  Train  \n",
       "3        176.25       12.14  Train  \n",
       "4         23.69       18.87  Train  \n",
       "5         98.12       76.41  Train  \n",
       "6         24.60       24.27  Train  \n",
       "7          0.01        0.00  Train  \n",
       "8         26.32       24.28  Train  \n",
       "9         55.19        4.30  Train  \n",
       "\n",
       "[10 rows x 22 columns]"
      ]
     },
     "execution_count": 2,
     "metadata": {},
     "output_type": "execute_result"
    }
   ],
   "source": [
    "train=pd.read_csv('data/Opportunities_examples.csv')\n",
    "test=pd.read_csv('data/Opportunities_examples.csv')\n",
    "train['type']='Train' #Create a flag for Train and Test Data set\n",
    "test['type']='Test'\n",
    "fullData = pd.concat([train,test],axis=0) #Combined both Train and Test Data set\n",
    "\n",
    "fullData.columns # This will show all the column names\n",
    "fullData.head(10) # Show first 10 records of dataframe"
   ]
  },
  {
   "cell_type": "markdown",
   "metadata": {},
   "source": [
    "We want to do is see what data types we have"
   ]
  },
  {
   "cell_type": "code",
   "execution_count": 3,
   "metadata": {
    "collapsed": false
   },
   "outputs": [
    {
     "data": {
      "text/plain": [
       "Opp No              object\n",
       "Opp Type            object\n",
       "Status              object\n",
       "Region              object\n",
       "Country             object\n",
       "BU                  object\n",
       "Sector              object\n",
       "Customer Group      object\n",
       "Customer            object\n",
       "Product             object\n",
       "Created             object\n",
       "Cust Dec Date       object\n",
       "Go Live Date        object\n",
       "Date Exp Gain       object\n",
       "Payment Terms        int64\n",
       "Contract Term       object\n",
       "Milestone           object\n",
       " Prob to win %       int64\n",
       "BCA_Status          object\n",
       "Ann Rev (�m)       float64\n",
       "Ann GP (�m)        float64\n",
       "type                object\n",
       "dtype: object"
      ]
     },
     "execution_count": 3,
     "metadata": {},
     "output_type": "execute_result"
    }
   ],
   "source": [
    "fullData.dtypes"
   ]
  },
  {
   "cell_type": "markdown",
   "metadata": {},
   "source": [
    "Summary of numerical fields"
   ]
  },
  {
   "cell_type": "code",
   "execution_count": 4,
   "metadata": {
    "collapsed": false
   },
   "outputs": [
    {
     "data": {
      "text/html": [
       "<div style=\"max-height:1000px;max-width:1500px;overflow:auto;\">\n",
       "<table border=\"1\" class=\"dataframe\">\n",
       "  <thead>\n",
       "    <tr style=\"text-align: right;\">\n",
       "      <th></th>\n",
       "      <th>Payment Terms</th>\n",
       "      <th> Prob to win % </th>\n",
       "      <th>Ann Rev (�m)</th>\n",
       "      <th>Ann GP (�m)</th>\n",
       "    </tr>\n",
       "  </thead>\n",
       "  <tbody>\n",
       "    <tr>\n",
       "      <th>count</th>\n",
       "      <td> 130.000000</td>\n",
       "      <td> 130.000000</td>\n",
       "      <td> 130.000000</td>\n",
       "      <td> 130.000000</td>\n",
       "    </tr>\n",
       "    <tr>\n",
       "      <th>mean</th>\n",
       "      <td>  51.815385</td>\n",
       "      <td>  61.123077</td>\n",
       "      <td>  67.399231</td>\n",
       "      <td>  26.104000</td>\n",
       "    </tr>\n",
       "    <tr>\n",
       "      <th>std</th>\n",
       "      <td>  27.486370</td>\n",
       "      <td>  41.296248</td>\n",
       "      <td>  68.009189</td>\n",
       "      <td>  25.636583</td>\n",
       "    </tr>\n",
       "    <tr>\n",
       "      <th>min</th>\n",
       "      <td>   0.000000</td>\n",
       "      <td>   0.000000</td>\n",
       "      <td>   0.000000</td>\n",
       "      <td>   0.000000</td>\n",
       "    </tr>\n",
       "    <tr>\n",
       "      <th>25%</th>\n",
       "      <td>  35.000000</td>\n",
       "      <td>  10.000000</td>\n",
       "      <td>  21.480000</td>\n",
       "      <td>   9.550000</td>\n",
       "    </tr>\n",
       "    <tr>\n",
       "      <th>50%</th>\n",
       "      <td>  60.000000</td>\n",
       "      <td>  85.000000</td>\n",
       "      <td>  42.390000</td>\n",
       "      <td>  17.830000</td>\n",
       "    </tr>\n",
       "    <tr>\n",
       "      <th>75%</th>\n",
       "      <td>  60.000000</td>\n",
       "      <td> 100.000000</td>\n",
       "      <td>  98.120000</td>\n",
       "      <td>  31.930000</td>\n",
       "    </tr>\n",
       "    <tr>\n",
       "      <th>max</th>\n",
       "      <td> 120.000000</td>\n",
       "      <td> 100.000000</td>\n",
       "      <td> 306.640000</td>\n",
       "      <td> 103.050000</td>\n",
       "    </tr>\n",
       "  </tbody>\n",
       "</table>\n",
       "</div>"
      ],
      "text/plain": [
       "       Payment Terms   Prob to win %   Ann Rev (�m)  Ann GP (�m)\n",
       "count     130.000000       130.000000    130.000000   130.000000\n",
       "mean       51.815385        61.123077     67.399231    26.104000\n",
       "std        27.486370        41.296248     68.009189    25.636583\n",
       "min         0.000000         0.000000      0.000000     0.000000\n",
       "25%        35.000000        10.000000     21.480000     9.550000\n",
       "50%        60.000000        85.000000     42.390000    17.830000\n",
       "75%        60.000000       100.000000     98.120000    31.930000\n",
       "max       120.000000       100.000000    306.640000   103.050000"
      ]
     },
     "execution_count": 4,
     "metadata": {},
     "output_type": "execute_result"
    }
   ],
   "source": [
    "fullData.describe()"
   ]
  },
  {
   "cell_type": "markdown",
   "metadata": {},
   "source": [
    "Examples number of each opportunity types"
   ]
  },
  {
   "cell_type": "code",
   "execution_count": 5,
   "metadata": {
    "collapsed": false
   },
   "outputs": [
    {
     "data": {
      "text/plain": [
       "Opp No             False\n",
       "Opp Type           False\n",
       "Status             False\n",
       "Region             False\n",
       "Country            False\n",
       "BU                 False\n",
       "Sector             False\n",
       "Customer Group     False\n",
       "Customer           False\n",
       "Product             True\n",
       "Created            False\n",
       "Cust Dec Date       True\n",
       "Go Live Date        True\n",
       "Date Exp Gain      False\n",
       "Payment Terms      False\n",
       "Contract Term      False\n",
       "Milestone          False\n",
       " Prob to win %     False\n",
       "BCA_Status          True\n",
       "Ann Rev (�m)       False\n",
       "Ann GP (�m)        False\n",
       "type               False\n",
       "dtype: bool"
      ]
     },
     "execution_count": 5,
     "metadata": {},
     "output_type": "execute_result"
    }
   ],
   "source": [
    "ID_col = ['Opp No']\n",
    "target_col = [\"Status\"]\n",
    "cat_cols = ['Opp Type','Region','Country','BU','Sector', 'Customer Group','Customer','Product','Payment Terms','Contract Term','Milestone','BCA_Status']\n",
    "num_cols= list(set(list(fullData.columns))-set(cat_cols))\n",
    "other_col=['type'] #Test and Train Data set identifier\n",
    "\n",
    "fullData.isnull().any()#Will return the feature with True or False,True means have missing value else False"
   ]
  },
  {
   "cell_type": "markdown",
   "metadata": {},
   "source": [
    "For the sake of simplicity, just fill in the value with the most common value"
   ]
  },
  {
   "cell_type": "code",
   "execution_count": 6,
   "metadata": {
    "collapsed": true
   },
   "outputs": [],
   "source": [
    "fullData = fullData.fillna({\"Product\": \"Warehousing\"})\n",
    "fullData = fullData.fillna({\"Cust Dec Date\": \"30/03/2017\"})\n",
    "fullData = fullData.fillna({\"Go Live Date\": \"03/07/2017\"})\n",
    "fullData = fullData.fillna({\"BCA_Status\": \"Approved\"})\n",
    "fullData = fullData.fillna({\"Payment Terms\": \"2-3 Years\"})"
   ]
  },
  {
   "cell_type": "markdown",
   "metadata": {},
   "source": [
    "Combined numerical and Categorical variables."
   ]
  },
  {
   "cell_type": "code",
   "execution_count": 7,
   "metadata": {
    "collapsed": true
   },
   "outputs": [],
   "source": [
    "num_cat_cols = num_cols+cat_cols"
   ]
  },
  {
   "cell_type": "markdown",
   "metadata": {},
   "source": [
    "Create a new variable for each variable having missing value with VariableName_NA and flag missing value with 1 and other with 0"
   ]
  },
  {
   "cell_type": "code",
   "execution_count": 8,
   "metadata": {
    "collapsed": true
   },
   "outputs": [],
   "source": [
    "for var in num_cat_cols:\n",
    "    if fullData[var].isnull().any()==True:\n",
    "        fullData[var+'_NA']=fullData[var].isnull()*1"
   ]
  },
  {
   "cell_type": "markdown",
   "metadata": {},
   "source": [
    "Create label encoders for categorical features"
   ]
  },
  {
   "cell_type": "code",
   "execution_count": 11,
   "metadata": {
    "collapsed": true
   },
   "outputs": [],
   "source": [
    "for var in cat_cols:\n",
    " number = LabelEncoder()\n",
    " fullData[var] = number.fit_transform(fullData[var].astype('str'))"
   ]
  },
  {
   "cell_type": "code",
   "execution_count": 14,
   "metadata": {
    "collapsed": false
   },
   "outputs": [
    {
     "data": {
      "text/plain": [
       "Opp No             False\n",
       "Opp Type           False\n",
       "Status             False\n",
       "Region             False\n",
       "Country            False\n",
       "BU                 False\n",
       "Sector             False\n",
       "Customer Group     False\n",
       "Customer           False\n",
       "Product            False\n",
       "Payment Terms      False\n",
       "Contract Term      False\n",
       "Milestone          False\n",
       " Prob to win %     False\n",
       "BCA_Status         False\n",
       "Ann Rev (�m)       False\n",
       "Ann GP (�m)        False\n",
       "type               False\n",
       "dtype: bool"
      ]
     },
     "execution_count": 14,
     "metadata": {},
     "output_type": "execute_result"
    }
   ],
   "source": [
    "fullData.isnull().any()"
   ]
  },
  {
   "cell_type": "markdown",
   "metadata": {},
   "source": [
    "We using Random Forest Classifier to classify opportunity type. "
   ]
  },
  {
   "cell_type": "code",
   "execution_count": 12,
   "metadata": {
    "collapsed": false
   },
   "outputs": [
    {
     "name": "stderr",
     "output_type": "stream",
     "text": [
      "/usr/local/lib/python2.7/site-packages/ipykernel/__main__.py:6: SettingWithCopyWarning: \n",
      "A value is trying to be set on a copy of a slice from a DataFrame.\n",
      "Try using .loc[row_indexer,col_indexer] = value instead\n",
      "\n",
      "See the the caveats in the documentation: http://pandas.pydata.org/pandas-docs/stable/indexing.html#indexing-view-versus-copy\n",
      "/usr/local/lib/python2.7/site-packages/sklearn/metrics/metrics.py:909: UndefinedMetricWarning: No positive samples in y_true, true positive value should be meaningless\n",
      "  UndefinedMetricWarning)\n"
     ]
    },
    {
     "ename": "ValueError",
     "evalue": "Input contains NaN, infinity or a value too large for dtype('float64').",
     "output_type": "error",
     "traceback": [
      "\u001b[0;31m---------------------------------------------------------------------------\u001b[0m",
      "\u001b[0;31mValueError\u001b[0m                                Traceback (most recent call last)",
      "\u001b[0;32m<ipython-input-12-e87295bc1cdd>\u001b[0m in \u001b[0;36m<module>\u001b[0;34m()\u001b[0m\n\u001b[1;32m     21\u001b[0m \u001b[0mstatus\u001b[0m \u001b[0;34m=\u001b[0m \u001b[0mrf\u001b[0m\u001b[0;34m.\u001b[0m\u001b[0mpredict_proba\u001b[0m\u001b[0;34m(\u001b[0m\u001b[0mx_validate\u001b[0m\u001b[0;34m)\u001b[0m\u001b[0;34m\u001b[0m\u001b[0m\n\u001b[1;32m     22\u001b[0m \u001b[0mfpr\u001b[0m\u001b[0;34m,\u001b[0m \u001b[0mtpr\u001b[0m\u001b[0;34m,\u001b[0m \u001b[0m_\u001b[0m \u001b[0;34m=\u001b[0m \u001b[0mroc_curve\u001b[0m\u001b[0;34m(\u001b[0m\u001b[0my_validate\u001b[0m\u001b[0;34m,\u001b[0m \u001b[0mstatus\u001b[0m\u001b[0;34m[\u001b[0m\u001b[0;34m:\u001b[0m\u001b[0;34m,\u001b[0m\u001b[0;36m1\u001b[0m\u001b[0;34m]\u001b[0m\u001b[0;34m,\u001b[0m \u001b[0mpos_label\u001b[0m\u001b[0;34m=\u001b[0m\u001b[0;34m'T'\u001b[0m\u001b[0;34m)\u001b[0m\u001b[0;34m\u001b[0m\u001b[0m\n\u001b[0;32m---> 23\u001b[0;31m \u001b[0mroc_auc\u001b[0m \u001b[0;34m=\u001b[0m \u001b[0mauc\u001b[0m\u001b[0;34m(\u001b[0m\u001b[0mfpr\u001b[0m\u001b[0;34m,\u001b[0m \u001b[0mtpr\u001b[0m\u001b[0;34m)\u001b[0m\u001b[0;34m\u001b[0m\u001b[0m\n\u001b[0m\u001b[1;32m     24\u001b[0m \u001b[0;32mprint\u001b[0m \u001b[0mroc_auc\u001b[0m\u001b[0;34m\u001b[0m\u001b[0m\n\u001b[1;32m     25\u001b[0m \u001b[0;34m\u001b[0m\u001b[0m\n",
      "\u001b[0;32m/usr/local/lib/python2.7/site-packages/sklearn/metrics/metrics.pyc\u001b[0m in \u001b[0;36mauc\u001b[0;34m(x, y, reorder)\u001b[0m\n\u001b[1;32m    205\u001b[0m \u001b[0;34m\u001b[0m\u001b[0m\n\u001b[1;32m    206\u001b[0m     \"\"\"\n\u001b[0;32m--> 207\u001b[0;31m     \u001b[0mx\u001b[0m\u001b[0;34m,\u001b[0m \u001b[0my\u001b[0m \u001b[0;34m=\u001b[0m \u001b[0mcheck_arrays\u001b[0m\u001b[0;34m(\u001b[0m\u001b[0mx\u001b[0m\u001b[0;34m,\u001b[0m \u001b[0my\u001b[0m\u001b[0;34m)\u001b[0m\u001b[0;34m\u001b[0m\u001b[0m\n\u001b[0m\u001b[1;32m    208\u001b[0m     \u001b[0;32mif\u001b[0m \u001b[0mx\u001b[0m\u001b[0;34m.\u001b[0m\u001b[0mshape\u001b[0m\u001b[0;34m[\u001b[0m\u001b[0;36m0\u001b[0m\u001b[0;34m]\u001b[0m \u001b[0;34m<\u001b[0m \u001b[0;36m2\u001b[0m\u001b[0;34m:\u001b[0m\u001b[0;34m\u001b[0m\u001b[0m\n\u001b[1;32m    209\u001b[0m         raise ValueError('At least 2 points are needed to compute'\n",
      "\u001b[0;32m/usr/local/lib/python2.7/site-packages/sklearn/utils/validation.pyc\u001b[0m in \u001b[0;36mcheck_arrays\u001b[0;34m(*arrays, **options)\u001b[0m\n\u001b[1;32m    281\u001b[0m                     \u001b[0marray\u001b[0m \u001b[0;34m=\u001b[0m \u001b[0mnp\u001b[0m\u001b[0;34m.\u001b[0m\u001b[0masarray\u001b[0m\u001b[0;34m(\u001b[0m\u001b[0marray\u001b[0m\u001b[0;34m,\u001b[0m \u001b[0mdtype\u001b[0m\u001b[0;34m=\u001b[0m\u001b[0mdtype\u001b[0m\u001b[0;34m)\u001b[0m\u001b[0;34m\u001b[0m\u001b[0m\n\u001b[1;32m    282\u001b[0m                 \u001b[0;32mif\u001b[0m \u001b[0;32mnot\u001b[0m \u001b[0mallow_nans\u001b[0m\u001b[0;34m:\u001b[0m\u001b[0;34m\u001b[0m\u001b[0m\n\u001b[0;32m--> 283\u001b[0;31m                     \u001b[0m_assert_all_finite\u001b[0m\u001b[0;34m(\u001b[0m\u001b[0marray\u001b[0m\u001b[0;34m)\u001b[0m\u001b[0;34m\u001b[0m\u001b[0m\n\u001b[0m\u001b[1;32m    284\u001b[0m \u001b[0;34m\u001b[0m\u001b[0m\n\u001b[1;32m    285\u001b[0m             \u001b[0;32mif\u001b[0m \u001b[0;32mnot\u001b[0m \u001b[0mallow_nd\u001b[0m \u001b[0;32mand\u001b[0m \u001b[0marray\u001b[0m\u001b[0;34m.\u001b[0m\u001b[0mndim\u001b[0m \u001b[0;34m>=\u001b[0m \u001b[0;36m3\u001b[0m\u001b[0;34m:\u001b[0m\u001b[0;34m\u001b[0m\u001b[0m\n",
      "\u001b[0;32m/usr/local/lib/python2.7/site-packages/sklearn/utils/validation.pyc\u001b[0m in \u001b[0;36m_assert_all_finite\u001b[0;34m(X)\u001b[0m\n\u001b[1;32m     41\u001b[0m             and not np.isfinite(X).all()):\n\u001b[1;32m     42\u001b[0m         raise ValueError(\"Input contains NaN, infinity\"\n\u001b[0;32m---> 43\u001b[0;31m                          \" or a value too large for %r.\" % X.dtype)\n\u001b[0m\u001b[1;32m     44\u001b[0m \u001b[0;34m\u001b[0m\u001b[0m\n\u001b[1;32m     45\u001b[0m \u001b[0;34m\u001b[0m\u001b[0m\n",
      "\u001b[0;31mValueError\u001b[0m: Input contains NaN, infinity or a value too large for dtype('float64')."
     ]
    }
   ],
   "source": [
    "fullData = fullData.drop(['Created', 'Cust Dec Date','Go Live Date','Date Exp Gain'], axis=1)\n",
    "\n",
    "train=fullData[fullData['type']=='Train']\n",
    "test=fullData[fullData['type']=='Test']\n",
    "\n",
    "train['is_train'] = np.random.uniform(0, 1, len(train)) <= .75\n",
    "Train, Validate = train[train['is_train']==True], train[train['is_train']==False]\n",
    "\n",
    "features=list(set(list(fullData.columns))-set(ID_col)-set(target_col)-set(other_col))\n",
    "\n",
    "x_train = Train[list(features)].values\n",
    "y_train = Train[\"Status\"].values\n",
    "x_validate = Validate[list(features)].values\n",
    "y_validate = Validate[\"Status\"].values\n",
    "x_test=test[list(features)].values\n",
    "\n",
    "random.seed(100)\n",
    "rf = RandomForestClassifier(n_estimators=1000)\n",
    "rf.fit(x_train, y_train)\n",
    "\n",
    "status = rf.predict_proba(x_validate)\n",
    "fpr, tpr, _ = roc_curve(y_validate, status[:,1], pos_label='T')\n",
    "roc_auc = auc(fpr, tpr)\n",
    "print roc_auc\n",
    "\n",
    "final_status = rf.predict_proba(x_test)\n",
    "test[\"Status\"]=final_status[:,1]\n",
    "test.to_csv('data/model_output.csv',columns=['Status'])"
   ]
  },
  {
   "cell_type": "code",
   "execution_count": null,
   "metadata": {
    "collapsed": true
   },
   "outputs": [],
   "source": []
  },
  {
   "cell_type": "code",
   "execution_count": null,
   "metadata": {
    "collapsed": true
   },
   "outputs": [],
   "source": []
  }
 ],
 "metadata": {
  "kernelspec": {
   "display_name": "Python 2",
   "language": "python",
   "name": "python2"
  },
  "language_info": {
   "codemirror_mode": {
    "name": "ipython",
    "version": 2
   },
   "file_extension": ".py",
   "mimetype": "text/x-python",
   "name": "python",
   "nbconvert_exporter": "python",
   "pygments_lexer": "ipython2",
   "version": "2.7.11"
  }
 },
 "nbformat": 4,
 "nbformat_minor": 0
}
