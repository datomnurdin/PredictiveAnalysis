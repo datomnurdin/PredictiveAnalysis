{
 "cells": [
  {
   "cell_type": "code",
   "execution_count": 33,
   "metadata": {
    "collapsed": false
   },
   "outputs": [
    {
     "data": {
      "text/html": [
       "<iframe id=\"igraph\" scrolling=\"no\" style=\"border:none;\" seamless=\"seamless\" src=\"https://plot.ly/~datomnurdin/2.embed\" height=\"525px\" width=\"100%\"></iframe>"
      ],
      "text/plain": [
       "<plotly.tools.PlotlyDisplay object>"
      ]
     },
     "execution_count": 33,
     "metadata": {},
     "output_type": "execute_result"
    }
   ],
   "source": [
    "import requests\n",
    "import json\n",
    "import plotly.plotly as py\n",
    "import plotly.graph_objs as go\n",
    "\n",
    "py.sign_in('datomnurdin', 'XTpzsP3gdrod87GNtePW')\n",
    "\n",
    "labels = []\n",
    "values = []\n",
    "colors = ['#FEBFB3', '#E1396C', '#96D38C', '#D0F9B1', '#E1396C']\n",
    "\n",
    "response = requests.post(\"https://gateway.watsonplatform.net/personality-insights/api/v2/profile\",\n",
    "         auth=(\"445a8f2c-75b5-4f85-9772-c44b58c1f501\", \"xrRa7XFMAZfK\"),\n",
    "         headers = {\"content-type\": \"text/plain\"},\n",
    "         \n",
    "         data =\"In love with mandarin collar shirt (heart eyes emoji). Reminds me of Daft Punk. Getting tired of being sick. Can I just recover already. not a good start to the week. Worried. Lessons learned. Need to regain my appetite pronto. dah 24 jam tak makan T.T. Dear body, please get well soon. No coincidence that I woke up at 4am and managed to complete two critical tasks. Should rearrange my sleep time to maximize productivity. Not feeling too well. Not good. Gotta recover quickly. A certain amount of ego is good. Too much of it can kill you. Know the right balance. What a legend. In need of either a really peaceful holiday at an island or a lone trip to somewhere unfamiliar. Think the latter is more interesting.\"\n",
    "        )\n",
    "\n",
    "         \"\"\"\n",
    "         data=\"Sometimes solutions aren't so simple. Sometimes goodbye's the only way 😢. Its kind like funeral frame! #soding. If you want to find your future wife, find for those believe your vision and passion. Leave her if she underestimate your doing because when the hardest part come, u will know who staying with you. #Loyalty. This guy is fucking funny. Give him a medal. I just lost 2 kg becoz of depression... I got high fever for 1 week. As a result, lost 5kg. Current weight 88kg. More fever burn!!! gemok itu menawan,buncit itu memukau. Our nearest date TensorFlow training on 18 August at UiTM Shah Alam. Target audience lecturers & researchers. Don't forget to sign up this form for those interested. http://bit.ly/2vVTqC7. Make no mistake — this is a one-way trip.\n",
    "         \"\"\"\n",
    "jsonProfile = json.loads(response.text)\n",
    "\n",
    "print jsonProfile\n",
    "\n",
    "for rows in jsonProfile['tree']['children'][0]['children']:\n",
    "    labels.append(rows['children'][0]['name'])\n",
    "    values.append(rows['children'][0]['percentage'])\n",
    "    \n",
    "    labels.append(rows['children'][1]['name'])\n",
    "    values.append(rows['children'][1]['percentage'])\n",
    "    \n",
    "    labels.append(rows['children'][2]['name'])\n",
    "    values.append(rows['children'][2]['percentage'])\n",
    "    \n",
    "    labels.append(rows['children'][3]['name'])\n",
    "    values.append(rows['children'][3]['percentage'])\n",
    "    \n",
    "    labels.append(rows['children'][4]['name'])\n",
    "    values.append(rows['children'][4]['percentage'])\n",
    "    \n",
    "\n",
    "trace = go.Pie(labels=labels, values=values,\n",
    "               hoverinfo='label+percent', textinfo='value', \n",
    "               textfont=dict(size=20),\n",
    "               marker=dict(colors=colors, \n",
    "                           line=dict(color='#000000', width=2)))\n",
    "\n",
    "py.iplot([trace], filename='styled_pie_chart')"
   ]
  }
 ],
 "metadata": {
  "kernelspec": {
   "display_name": "Python 2",
   "language": "python",
   "name": "python2"
  },
  "language_info": {
   "codemirror_mode": {
    "name": "ipython",
    "version": 2
   },
   "file_extension": ".py",
   "mimetype": "text/x-python",
   "name": "python",
   "nbconvert_exporter": "python",
   "pygments_lexer": "ipython2",
   "version": "2.7.11"
  }
 },
 "nbformat": 4,
 "nbformat_minor": 0
}
